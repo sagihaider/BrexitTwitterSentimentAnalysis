{
  "nbformat": 4,
  "nbformat_minor": 0,
  "metadata": {
    "colab": {
      "name": "BrexitSentimentAnalysis.ipynb",
      "provenance": [],
      "include_colab_link": true
    },
    "kernelspec": {
      "name": "python3",
      "display_name": "Python 3"
    }
  },
  "cells": [
    {
      "cell_type": "markdown",
      "metadata": {
        "id": "view-in-github",
        "colab_type": "text"
      },
      "source": [
        "<a href=\"https://colab.research.google.com/github/sagihaider/BrexitTwitterSentimentAnalysis/blob/master/BrexitSentimentAnalysis.ipynb\" target=\"_parent\"><img src=\"https://colab.research.google.com/assets/colab-badge.svg\" alt=\"Open In Colab\"/></a>"
      ]
    },
    {
      "cell_type": "code",
      "metadata": {
        "id": "sF2mRiOZa1Ms",
        "colab_type": "code",
        "outputId": "bbe7de73-3d7f-4678-cfee-7388becc097b",
        "colab": {
          "base_uri": "https://localhost:8080/",
          "height": 187
        }
      },
      "source": [
        "!pip install tweepy"
      ],
      "execution_count": 1,
      "outputs": [
        {
          "output_type": "stream",
          "text": [
            "Requirement already satisfied: tweepy in /usr/local/lib/python3.6/dist-packages (3.6.0)\n",
            "Requirement already satisfied: requests-oauthlib>=0.7.0 in /usr/local/lib/python3.6/dist-packages (from tweepy) (1.2.0)\n",
            "Requirement already satisfied: requests>=2.11.1 in /usr/local/lib/python3.6/dist-packages (from tweepy) (2.21.0)\n",
            "Requirement already satisfied: PySocks>=1.5.7 in /usr/local/lib/python3.6/dist-packages (from tweepy) (1.7.1)\n",
            "Requirement already satisfied: six>=1.10.0 in /usr/local/lib/python3.6/dist-packages (from tweepy) (1.12.0)\n",
            "Requirement already satisfied: oauthlib>=3.0.0 in /usr/local/lib/python3.6/dist-packages (from requests-oauthlib>=0.7.0->tweepy) (3.1.0)\n",
            "Requirement already satisfied: idna<2.9,>=2.5 in /usr/local/lib/python3.6/dist-packages (from requests>=2.11.1->tweepy) (2.8)\n",
            "Requirement already satisfied: urllib3<1.25,>=1.21.1 in /usr/local/lib/python3.6/dist-packages (from requests>=2.11.1->tweepy) (1.24.3)\n",
            "Requirement already satisfied: chardet<3.1.0,>=3.0.2 in /usr/local/lib/python3.6/dist-packages (from requests>=2.11.1->tweepy) (3.0.4)\n",
            "Requirement already satisfied: certifi>=2017.4.17 in /usr/local/lib/python3.6/dist-packages (from requests>=2.11.1->tweepy) (2019.9.11)\n"
          ],
          "name": "stdout"
        }
      ]
    },
    {
      "cell_type": "code",
      "metadata": {
        "id": "MBSMP6OHbDo9",
        "colab_type": "code",
        "colab": {}
      },
      "source": [
        "import re\n",
        "import tweepy\n",
        " \n",
        "from tweepy import OAuthHandler\n",
        " \n",
        "consumer_api_key = 'Your Key'\n",
        "consumer_api_secret = 'Your Key' \n",
        "access_token = 'Your Key'\n",
        "access_token_secret ='Your Key'\n",
        " "
      ],
      "execution_count": 0,
      "outputs": []
    },
    {
      "cell_type": "code",
      "metadata": {
        "id": "3DXzCMJPbUSe",
        "colab_type": "code",
        "colab": {}
      },
      "source": [
        "authorizer = OAuthHandler(consumer_api_key, consumer_api_secret)\n",
        "authorizer.set_access_token(access_token, access_token_secret)\n"
      ],
      "execution_count": 0,
      "outputs": []
    },
    {
      "cell_type": "code",
      "metadata": {
        "id": "PCvHKeQsbfvp",
        "colab_type": "code",
        "colab": {}
      },
      "source": [
        "api = tweepy.API(authorizer ,timeout=15)\n",
        " \n",
        "all_tweets = []\n",
        " \n",
        "search_query = 'brexit'\n",
        " \n",
        "for tweet_object in tweepy.Cursor(api.search,q=search_query+\" -filter:retweets\",lang='en',result_type='recent').items(200):\n",
        "    all_tweets.append(tweet_object.text)"
      ],
      "execution_count": 0,
      "outputs": []
    },
    {
      "cell_type": "code",
      "metadata": {
        "id": "ovmgZsegcr4Z",
        "colab_type": "code",
        "outputId": "9f80bb75-c3aa-4438-9443-541986999b0c",
        "colab": {
          "base_uri": "https://localhost:8080/",
          "height": 54
        }
      },
      "source": [
        "print(all_tweets)"
      ],
      "execution_count": 5,
      "outputs": [
        {
          "output_type": "stream",
          "text": [
            "['Brexit: Dominic Cummings blamed for unofficial No 10 briefing threatening EU states that back extension - live news https://t.co/3aJoMRzxKg', 'Brexit latest news: Downing Street prepares for Brexit talks to collapse this week, as Number 10 source says party… https://t.co/fGcSQo6GRW', 'Brexit: UK moves to scrap ‘level playing field’ with EU | https://t.co/4LnaoVMHiv https://t.co/2gtbARVO1u', \"@citizentommy Why don't they use the mandate Tommy? Is it incase it causes a split in the country same as brexit has with the UK??\", \"@TomHalliday18 @EmmaKennedy ahhh well, if Roger says it's all OK then Brexit must be a good idea... After he knows… https://t.co/0FA6Tu4nCG\", '@mongan_mick @gazmavfc @BBCPolitics There’s the old we won you lost nana nana na Defence. I honestly don’t see anyt… https://t.co/DX8j1KCsNQ', 'In my #netzero speech I called for the autumn budget to be a climate emergency budget not just a pre-election givea… https://t.co/YUyFlcE56H', 'It is vital that the UK regains complete control of our defence and foreign policy. Withdrawal Agreement as is fail… https://t.co/hXaeHky78M', '@Lynn_GT @nickreeves9876 @jeremycorbyn THEY ARE NOT VOTING FOR CORBYN BUT VOTING TO STOP BREXIT.... now who persuad… https://t.co/RvxLt0HGlg', 'Is it a case of \"Dublin says no!\" derailing hopes of a Brexit deal? We are talking to Sammy Wilson MP of @duponline… https://t.co/DeS4KrlKgk', \"@gregjames creating the biggest divide in the nation since Brexit. Completely disagree with today's referendum resu… https://t.co/txz8S47Stp\", '@Flash430 @bbclaurak Yeah, right. At a £100bn cost. What a great idea, not...\\n\\nhttps://t.co/xdlpmlaXZA', '#Brexit explained by @davidallengreen (recommended by @JORISLUIJENDIJK ) https://t.co/LMLzmWpvo7', \"If keeping Northern Ireland in the EU's customs union is a red line for Brussels then (with the current UK governme… https://t.co/KnIM7sfhQe\", \"Exactly what #DominicCummings, #BorisJohnson and all the other rabid pro-#Brexit crazies want as they're all set to… https://t.co/lTa6ZGDTHf\", '#brexit 2019 everyone https://t.co/ARlRvZbYc7', 'The UK becoming a low tariff wasteland? UK tweaks tariffs amid no-deal Brexit countdown https://t.co/m4BrYFJ5mm', 'BBC News - No-deal Brexit would push UK debt to 50-year high, says think tank - best scenario is of course to remai… https://t.co/NCxr9fq6aL', '@bbclaurak That suggests the chance of a deal had legs in the first place.\\n\\nThis Government still has no idea how t… https://t.co/L2W2jP3yBn', '@BBCNews Something else Cummings and his dummy Johnson have engiineered. What is happening to Democracy in this cou… https://t.co/QFhCbPDAmC', '@PeteWishart Pete, I would have hoped that the Scottish Government would have started it’s own’get ready for Brexit… https://t.co/mM2TZzCsJX', 'Who would have guessed that the anti brexit/democracy muppets were very closely aligned with the #xr nutters!!! https://t.co/mhM2IZPNPe', 'What Brexit blues? How savvy UK businesses are prospering in the face of adversity\\n\\nhttps://t.co/w7YBiBGTL0 https://t.co/4YHDVJIUaD', 'I am more than content with a clean break Brexit 👍 https://t.co/6ymHlFEYvG', 'Having clashed a fair bit on social media with Cummings when he was at Education, this is him.\\nOr a brilliant parod… https://t.co/p2ZnPHHjyG', 'Many people are under the illusion that to \"just get Brexit done\" is a thing—because politicians, particularly thos… https://t.co/cea2YN6Xx9', 'Merkel has declared Northern Ireland is a stumbling block in Johnson’s proposed brexit deal.  Talks allegedly effectively over....', '@avarakai Expect military rule in the UK if the current political situation worsens. Irish and Scottish separatists… https://t.co/V8a519kleW', '@bbclaurak The position is as it always has been - there can be no Brexit (unless the whole UK stays in the Customs… https://t.co/4Oj2c7atnU', '@JohnRentoul Brexit fatigue means that all options to “bring it to an end” must be gaining ground and I would asses… https://t.co/5wvNsdUV5q', '@s_everson How do you deal with Johnson over Brexit?', \"@bbclaurak As does Dan Hannan's claim that Brexit undermining the peace process as project fear.\", '@Peston Dear @eucopresident ,\\n\\nClearly we have a technical glitch in UK governance at this moment. Please do not ad… https://t.co/YqeGaBto1i', 'The Remainers stymying Brexit right now are actually making our departure from the EU all the more certain… https://t.co/bUQurZNAIw', 'Banking Giant HSBC Set to Fire 10,000 More Employees - Bitcoin News #hsbc #financialtimes #brexit #bancosantander… https://t.co/iqbyOHh9vc', \"@mrjamesob brexit questions:\\nwhy do people who hated Mays deal so vehemently defend Johnsons?\\nAre some people's dia… https://t.co/OYnL8u7q8I\", \"Also, @MhairiBlack would be a great interim PM because there's no conflict of interest when it comes to Brexit and… https://t.co/VFCSZlr4dL\", \"Latest on Boris Johnson's Brexit proposals.\\nhttps://t.co/gsORl1grYB\", '“Brexit is like sticking two fingers up at a window and then discovering it’s a mirror.”\\n\\n#Brexit #Brexitannia \\n\\nhttps://t.co/nD2x8GtADt', '@faisalislam @Jim_Cornelius So confront this. Brexit ratchet effect is ridiculous, we have to confront it. \\nhttps://t.co/R45IMKxESG', \"Once Brexit is here, we will compete with Eire, for their little business of hosting profitable 'Offices'.\\nWe will… https://t.co/1DaYZDQDcg\", \"@SteveBakerHW I think you'll find that what is really outrageous is the fact that our democracy allowed the lies ab… https://t.co/OPnveUxAOX\", '@_BrexitTory They have outflanked the man with the megaphone shouting to stop Brexit.', 'Court asked to consider Brexit delay letter to EU. No. Boris has to do it or go to prison for breaking the law. Thi… https://t.co/8UxgvRiDpn', 'Seriously, the failure of the broadcast media - in particular ITV and the BBC - over Brexit has been epic. Epic. And deeply depressing.', 'Sell a whole COUNTRY for your career!! #Brexit #BrexitChaos \\nNot sure if I feel disgusted, incredulous, or ... shoc… https://t.co/5NFJ4uCeI6', 'Thornberry talks like this all the time. She thinks she is being clever saying ‘the’re all like children, And grown… https://t.co/VjF6m91vni', '@relovedreams @jeremycorbyn A GE is a very bad idea until Brexit is stopped.', 'However #Brexit happens, it will have a big impact on Ireland’s #SMEs - #Budget2020 should allow for vouchers for S… https://t.co/iYy6UUSpF5', '@ThreeUKSupport ok 20 mins now, how about “ hanging on the telephone” rather than Kyle.. should I start a Twitter p… https://t.co/XGFq6pWUNa', 'Why is Westminster failing to understand the EU side then? Simply put, because to do so would mean to recognise one… https://t.co/SyCQtGRJb3', 'Brexit: Dominic Cummings blamed for unofficial No 10 briefing threatening EU states that back extension - live news https://t.co/HN4vyxvtts', '@OxfordDiplomat @ExasperatedTory Brexit means Brexit.\\nLeave means Leave.\\nQuit means Quitlings.\\nRemembering the lead… https://t.co/4CZ7bXMzJf', 'Red tape bill for UK-EU trade under no-deal #Brexit set to hit £15bn a year: https://t.co/nSj6lM5vAQ\\n\\n£15b. Plus su… https://t.co/TOZ7Odoywl', \"GERMANY'S MERKEL SAYS  WILL DISCUSS BREXIT WITH EUROPEAN PARLIAMENT HEAD DAVID SASSOLI TODAY\", 'Brexit 2016: Sunlit uplands\\n\\nBrexit 2019: We successfully evacuated 140000 customers of a failed UK business from a… https://t.co/2nEFepvtUA', 'No-deal #Brexit would push UK debt to 50-year high, says think tank https://t.co/2VNWQzuwvU https://t.co/FwEtuw8iBQ', '@hilarybennmp That doesn’t make sense. Asking people to vote on something doesn’t get anything ‘done’. The dishones… https://t.co/Q4hIltOwxH', 'Brexit uncertainty boosted IT contractors in September https://t.co/o9EgAmsaqT', '@DerekMeers @JayBhattNL @NicolaSturgeon Are you on drugs or something?! Labour are all over the place on Brexit 🤣', '@SkyNews OMG!!!!Run for the hills. I can handle stopping swimming but the expensive blouses is a step too far!!!\\nST… https://t.co/r1On3dC0zM', '@Nigel_Farage Post-Brexit To-Do List\\n-Reclaim Hong Kong', '🇬🇧🇪🇺 #Brexit: #UK prepares for breakdown in talks with #EU.\\nVia \\u2066@BBCWorld\\u2069  https://t.co/kmmPybvGV5', '@Ohgoshkash \"Campaigners are expected to lodge an appeal after a judge dismissed a legal action\" https://t.co/uRRAmGoPyX', 'BBC News - No-deal Brexit would push UK debt to 50-year high, says think tank https://t.co/VuQSkvXM0K', '@yescotland @Snowy273 @Missgabillard Only people who are lying are Unionists. Lying about the effects of austerity,… https://t.co/ug8f0Mw9H2', '#Brexit #Johnson is a dangerous egomaniac who brings shame and ridicule to our nation from which we may never recov… https://t.co/TISfXumwpC', 'They continue on like your #Brexit vote never happened. https://t.co/PVy0xHuzCh', 'Will Tax change after Brexit?\\nFrequently asked questions and answers we hear from our clients can when considering… https://t.co/BLuGGBXTn0', '@IrinavonWiese @BylineTimes They certainly are. I hate brexit but am baffled why we dont hear (our media?) anything… https://t.co/A20eHxxlhY', 'I thought they wanted to stop a No Deal #Brexit 🤔 https://t.co/yF4S3ACSac', '@RichardPTh Tory Govt have amassed National debt of 1.7 trillion ,thats without  their promised spending &amp; the Brex… https://t.co/uwdgTMBz3b', '@adamboultonSKY So now we have perspective. The reality is that economic analysis is heavily swayed to an increase… https://t.co/jbrcyudiNX', '#BREXIT RIGHTNOW', '@EtonOldBoys @nicky7755 Brexit ratchet effect is ridiculous, we have to confront it. \\nhttps://t.co/R45IMKxESG', 'Brexit deal talks close to breakdown as No10 plunge into blame game and threats Downing Street is threatening to se… https://t.co/2T9SVpQXds', '@SteveBakerHW Less Brexit Bullshit.', 'Bit baffling, this idea of a second referendum to clear the air.\\n\\nSupposing the result is leave 17.4m and remain 16… https://t.co/orK4qDPXjw', 'Brexit will be delayed again, we’ll never see the end of this farce', 'Insightful new research by our client @jrf_uk  in @thetimes  this morning highlighting the importance of low-income… https://t.co/STtcH5qTtb', '@BizGrowthHub @MH_Mfg_Advisor We are attending the one in Chester. #Brexit #prepareyourbusiness', 'Yeah, this. #brexit #IrishBorder #ToeRagJohnson  https://t.co/O3OcuzRW7M', \"@Spartaq @LeeDisco1 @its_johnmartin @bbclaurak You seem to be missing the point that we're all on the same side her… https://t.co/z6SsUiL3qg\", '@SkyNews And a meteor COULD hit the earth after a no deal Brexit. Is this really a story. Whatever it is I am not reading it \\U0001f92f', '@JamesRiley18 @grayheath56 @ZoeParamour @patanna I agree. I wish some leavers would start to realise that its union… https://t.co/gWnGMcA4N2', \"@derekjames150 I'd have to. Can't say I'd do a good job though. And they might find a lot of Bollocks to Brexit stickers appearing.\", '@MetroLink_ie More bolox, string everyone along till after election then put it in hold and blame Brexit.', 'Attending the DIT Brexit workshop at The Radisson Northampton to make sure we are fully prepared to maintain our ex… https://t.co/Hm70yce0Fe', 'Consumer spending suffered its worst September for decades last month as the possibility of a no-deal Brexit loomed… https://t.co/bbpUelTMTk', '@JamieWoodhouse It was on the referendum \"leave\" ... there was no ifs no buts, the only version of Brexit we voted for was to leave the EU.', '#Merkel tight-lipped on #Brexit as she welcomes @Europarl_EN president #Sassoli for talks in Berlin ahead of his tr… https://t.co/xUbE0DQa1e', 'URGENT: Merkel says #Brexit deal unlikely unless Northern Ireland stays in customs union - reports… https://t.co/X6qMytn7I2', \"@lewis_goodall And thats been the predicate of brexit. \\n\\nIf you don't believe that, and more so, one of, we are med… https://t.co/BOLcgkv22n\", '@Gynx85 @Countess_Brexit @BBCNews @SkyNews @Channel4News @itvnews @Channel5N No Basis. Really?… https://t.co/Tu8LFH0wi2', '@SHADOWAEMEH @DavidLammy I think that \"Brexit\", on balance, is a folly. But it should be clear to everyone that tha… https://t.co/hCghXPfz8Y', \"No-deal #Brexit would 'push national debt to levels last seen in 60s' https://t.co/bZ7hMHQ0XB\", \"@peter_chave @docrussjackson @Conservatives @VoteLeave @BBCNews @EHRC hope your right but corbyn hasn't got the lib… https://t.co/GGTON4nfSs\", '@Brexit If the talks collapse it would be failure of statecraft on all sides', '@ScotTories Half of all farms will fail under a no deal Brexit. That’s the certainty you bring. \\nAnd we all know th… https://t.co/zPjYLykLmA', 'Boris Johnson faces court challenge over no-deal Brexit from low-paid workers https://t.co/aRUOqGWciU', '@DPJHodges Enjoy your #Brexit\\n👍', 'Great thread - politics can be about making law but sometimes law defines and constrains politics - a failure to un… https://t.co/rbO0KUYPpr', \"Brexit, cycle lanes and Saudi Arabia: CTF's Facebook campaigns https://t.co/BQ6Swh4es9\", 'UK Govt Source confirms Brexit talks close to collapse \\n\\nBoth sides digging in with blame game starting\\n\\n#BREXIT #GBP #NoDeal', '@FulfordMalcolm @minski6283 @HardRightHettie @mssassysally Gov have no time for Climate change this month, BREXIT takes preference\\nI', 'Hell Yeah! This should be the first thing done after Brexit https://t.co/Gh0Ji4pb9s', 'UK budget deficit likely to double to 100 billion pounds in No-deal Brexit – IFS\\nClick link to read more… https://t.co/CgPuSZJZP1', \"@derekjames150 I'd choose someone who paid attention to detail. Someone with high moral standards. Not someone who… https://t.co/vU5iThqKih\", 'I feel sure that, if there was a strong groundswell in the country in support of brexit, then MPs would recognise i… https://t.co/8nFKQkbOP3', \"Take a look at Major new funding to support firms' Brexit preparations on the Business &amp; Innovation Magazine website https://t.co/qFoRpsTrTn\", '@SandraVelthuis @The_Wheel_IRL Had to shut down the charity I ran because we were merged with UK and Charity Regula… https://t.co/84uMyMhjlz', 'I hate Eddie Hearn because im pro brexit and Eddie started Matchroom promotions up in Foreign countries.\\n\\nA Fucking… https://t.co/GabsMR5HSj', '@EnglishNationa1 Where does the evidence for this claim about post Brexit deployment of British forces come from?', '@RBReich 1/2: Whose hands does this play into? I.e.: #Syrian war = #Refugees to #Europe = destabilization &amp; rise of… https://t.co/vvNHo12TkZ', 'So, remind me why we’re doing this #Brexit thing, again, hmmm? 🤔 https://t.co/mfY1iNcGpD', 'New post: Blouses and male swimwear could cost more under no-deal Brexit https://t.co/Ml5AvsaQZz', '@Michael86972831 With any change there will always be winners and losers that’s true. But the signs are that since… https://t.co/K9cnSPlH80', 'A fabulous opportunity to purchase this 5 Beds, 3 Baths #Villa #forSale in #Albox #Almería in #Spain for just 269,5… https://t.co/sRMPE494Ed', \"Yes, and don't forget both parties are promising more spending which will put it even higher\\n\\nBBC News - No-deal Br… https://t.co/QJCQmjsdcH\", 'Commemorative coins.\\n\\nThis is peak Brexit. As the whole world becomes more integrated and moves to cashless transac… https://t.co/o0LtaGamYt', 'This is the second twit in a row re Brexit’s damages to the British economy. Why do the Govt keep insisting on it,… https://t.co/V8JDIhngd9', '@Countess_Brexit Not enough', 'While No 10 flails on Brexit, Dutch PM Mark Rutte is busy Down Under boosting ties with, er, the countries that Bri… https://t.co/1xktND2k1Y', '@ColinParryPeace Just think how brilliant the world will look when you wake up! Makes Brexit pale into insignifican… https://t.co/HYB4rhQiU6', \"@FD Another 'brexit is proving difficult, let's forget about it' tweet... great stuff\", \"@bbclaurak Really, just died.......... so the whole thing wasn't just a charade for the benefit of the no-deal Brex… https://t.co/P3JKfUvnF9\", '@BBCr4today @AmberRuddHR Nothing compared to what remainers have done colluding with EU to stop Brexit!', 'https://t.co/2v9yF8SPx0 FAST FIVE: EU On Verge Of Huge Tactical Brexit Mistake\\n#NWO https://t.co/oc5JclUcpL https://t.co/y56Q7puekI', '@derekjames150 I work for someone who is as pro Brexit as you can get, it’s not easy, we have agreed to ban the ‘b’… https://t.co/jHsHQcpJUu', '@MichaelRosenYes A. I was astounded when it seemed they were going to go through with Brexit after the problems became apparent.', '@hantschamber are running four free of charge Brexit Boot Camps over the next few weeks, providing advice for busin… https://t.co/sqx3P1fBpS', 'You don’t want @IWGBunion coming for ya, @BorisJohnson \\n\\nAll we do is win ✊🏽🙌🏽🔥https://t.co/jyLeV9TmVD', '@20times20times That was my favourite Brexit story. More post-Brexit dogging. 🤣', 'You know who will have to pay for this... #BrexitShambles #BrexitChaos \\n\\nBBC News - No-deal Brexit would push UK de… https://t.co/AHOVBhfM0F', 'Talking about Brexit  on behalf of @fragomen live at 1pm on the Global HR Think Tank Webex for @net_expat Have lots… https://t.co/qENEgzdzln', 'Warnings as Brexit and China stifle recruitment firms https://t.co/wYhKnuRst6 https://t.co/JEz2LVPCxP', 'Parliament and Remain MPs will be blamed more than Boris Johnson for Brexit delay, poll reveals https://t.co/5yfpo7VdeK via @Telegraph', 'Fears that dogging will increase with a no-deal Brexit indicate a peculiarly English mindset. https://t.co/qBRCLYr4Bs', \"@TootVJoot @davidof1962 @clive_allan @danbloom1 @StandUp4Brexit Ok. We're now on to word salad. Ok, i see the rapid… https://t.co/pTRLW4t29B\", \"@beardyr0ry @MrProWestie It's the brexit 😂\", \"#Brexit latest - from BBC\\n\\n- Merkel says can only be a deal if NI stays in Customs Union\\n- If not, deal 'overwhelmi… https://t.co/M7uUC39N3h\", 'It isnt Irelands fault, they dont need to make concessions.\\nIt isnt the EU’s fault, they didnt ask us to leave.\\nIT… https://t.co/kIrBr9TrH6', 'Things looking increasingly bleak for Brexit deal;\\n\\n- Merkel says \"overwhelmingly unlikely\" on PM\\'s terms (see… https://t.co/il1cJnuPKN', '@bbclaurak Read 5 replies to this and each one was a BOT account spreading disinformation. Looks like the Brexit side is in panic.', 'Free breakfast seminar 16th October in #Portlaoise about #Brexit and its impact on data sharing. Register here:… https://t.co/dbxI5ipkuL', '@PickardJE 😎 Like QE, Brexit will go on indefinitely... https://t.co/XQ4pvNk0Oo', 'An absolute failure of statecraft facilitated by the Brexit blocking idiots in Parliament who have chosen chaos ove… https://t.co/O30Dk7LR4R', \"What bloody crap is this? EU won't fall for this BS surely.  What an embarrassment!\\n\\n https://t.co/HPyg26UbGf via @CityAM\", 'Brexit shock: No deal will cost EU £500billion https://t.co/7IxTH7Fts0', 'The Finance Minister says there will be \"absolutely no surprises\" when he announces #Budget2020 later.\\nhttps://t.co/y6FgIAoAU7', \"Calls for multi-million euro Budget 2020 Brexit fund to deliver 'for all farmers' https://t.co/6v0GXqHXVT\", 'New post: Blouses and male swimwear could cost more under no-deal Brexit https://t.co/nPkjkU64BZ', '@Anna_Soubry @bbclaurak Only a Corbyn led Labour govt will fight the tories policies that have caused deaths and mi… https://t.co/PsrWv4jSdJ', 'Brexit: Dominic Cummings blamed for unofficial No 10 briefing threatening EU states that back extension - live news https://t.co/0NBHIMCAdT', 'In the Irish Election of 1918 Sinn Fein won 98% of \\nthe vote but rather than accede to the democratic wish of the p… https://t.co/tWvQneUeXW', '@hilarybennmp I don’t think it would make any difference at all these games have to stop and Brexit must get done x', 'We like to criticise the Brexit language of others then use phrases like “Corbyn’s Jew haters” and “Lib Dem EU boot… https://t.co/e2JZL5Z2SO', 'The Premier League hates Brexit. Maybe all the Brexidiots should stop watching football.... @Conservatives… https://t.co/to9Zb5KkWV', '@NeilFindlay_MSP Like the Broon Envelope socialism enacted by labour for decades??? \\nThe \" nationalism\" slur doesn\\'… https://t.co/D9qmFFeZdx', '@PickardJE At most it will be Festival of Brexit England', '@mrfixitstips Brexit team', 'Clean Break Brexit on 31.10? https://t.co/F5nAotddTe', 'Brexit myths and disinformation, facts and explainers ...\\nhttps://t.co/8pEv3iHMTO', 'The Irish border is a matter of life and death, not technology | Fintan O’Toole https://t.co/iS4YFLWdpp', 'Brexit fatigue will ensure that the coming GE is not about brexit.', '@ArfurSmith No, it’s a portrait of no Brexit Arthur, the wilderness that’s left when votes don’t count...happy days', \"@ChrisGiles_ @FinancialTimes But but but what about the brexit dividend.. and the money we won't have to send to Br… https://t.co/P47tdSOHa7\", 'Very easy to say a few percentage points off GDP is a price worth paying to deliver Brexit. In which case advocates… https://t.co/sPnRG7ROFa', \"Who will pay for #brexit?\\n\\nIt won't be the idiots pushing it\\nIt will be the tax payer\\n\\nTaxes will have to go up\\n...… https://t.co/iPqKppni7H\", '@ghost_wales @HelenDTheList I am sure there will be many more like I us and yes, it will one day be full Brexit &amp; Victory!', '@danielchapman86 @Andrew_ComRes @ComRes @Telegraph Only 13% understand that the Tories had a majority with which to… https://t.co/EVOgoniZ2q', \"@JH_Brexit @ChrisLeslieMP @ForChange_Now @BorisJohnson The gov has had three years to come up with some 'specifics'… https://t.co/ZMkHXLPAF1\", '@TheLedge71 @BlackXList @joswinson @heidiallen75 @LibDems Enjoy no deal Brexit.', '@bigfinish ...the magical fairyland where a creature known as \"The Workable Brexit\" lives.\\n\\nOr\\n\\n...the timeline whe… https://t.co/SjDKGe4x79', 'No-deal Brexit would push borrowing above £100bn, IFS warns | Business News | Sky News https://t.co/7znG5G8Vjm', 'I really need to get myself an Irish passport tbh- don’t know how much good it’ll be in this inevitable no deal bre… https://t.co/Ma8zkCZoAs', 'So it’s almost time @BorisJohnson talks are about to collapse, so obey the law get an extension, then we can elect… https://t.co/flwMn3GR9r', '@Change_Britain Of course it was a surrender act.\\nIt is constitutionally unsound and I should imagine, illegal. \\nIt… https://t.co/vhMchkMmcB', \"'running a deliberate policy of making government departments issue announcements with little fact or basis behind… https://t.co/owPvhsO5o1\", \"@bbclaurak So Brexit isn't happening then. Great stuff!\", \"Furious Amber Rudd exposes who wrote threatening no deal Brexit memo 'it's desperate' https://t.co/26lCLoyeq1 expec… https://t.co/V5i43badPw\", 'No-deal Brexit could kill with medicine shortages putting thousands at risk https://t.co/IRr7r7fsad', 'Fake news.  No-deal Brexit would push UK debt to 50-year high, says think tank https://t.co/gR2y2ttIl1', '#WakeUpToMoney Bad Reporting or Contrived Brexit blame?\\nLouise at the start of the program you say the Financial Cr… https://t.co/2miDyg7KAZ', \"Brexit is the bitterest catastrophic tory bribery's unbelievably duplicitous tyre fire-pissing broken hypocrite\", '@CHoaglandLD Brexit will have the effect of even more mental health issues. In Witney as farmers struggle in brexit… https://t.co/I2JwI5eKJN', 'Many \"activists\" think they are first ones to raise climate change as an issue. Then they patronise us about it. Me… https://t.co/kLqyfbgVDp', 'Brexit Approaches, Juncker Doubts a Deal Can Occur https://t.co/k5V3DnyWRN via @YouTube', '@IrishInUK @wendybaileypr @Anna_Soubry @bbclaurak haha you seriously think you can stop Brexit 😂Try worrying about your own country Seamus', '⭐ No-deal Brexit would push UK debt to 50-year high, says think tank  ⭐ https://t.co/a1qZp6mCHP', 'Is it just me or is the world falling apart? Ongoing protests in Hong Kong, Climate protests everywhere, Trump (gen… https://t.co/Y5EWpoZctu', '@NickSan85494149 @jeremycorbyn Far better to repeatedly say get brexit done at every opportunity', \"@BorisJohnson Polls show that most people do not want Brexit at all anymore. Ask us. Give us a peoples' vote.\", 'Industrial production in Europe’s powerhouse economy Germany saw a slight rebound in latest data but business is ra… https://t.co/E5p2i5vCGH', '@davidyelland More seriously the implications post Brexit if it happens: then a small number of people can take dec… https://t.co/xN8EAGg6wq', 'He kept falling down so I made him a bridge. \\nI whipped a rope around a pipe from some garden project. In other new… https://t.co/t0alMKDFsV', '@brexit_dj @DavidLammy Disliking bad food standards is ANTI AMERICAN and treasonous! Nothing but surrender with you… https://t.co/vzZDXPqh9L', '@Otto_English A raccoon-led government that ditched Brexit would leave Britain 4% better off than a Johnson-led No Deal government.', 'All these “pundits” mentioning relegation is like the Brexit scaremongering all over again! \\n\\nMight just put a CRAZ… https://t.co/8opRheXgjs', '@bbcburnsy Once again your news room pushing Remain propaganda. Text messages from unknown source maybe No10, and i… https://t.co/mBSKz2gD9s']\n"
          ],
          "name": "stdout"
        }
      ]
    },
    {
      "cell_type": "code",
      "metadata": {
        "id": "03M6gOZzc7rb",
        "colab_type": "code",
        "outputId": "14ed1fd9-3ace-4fd3-c8a2-a0df029d2028",
        "colab": {
          "base_uri": "https://localhost:8080/",
          "height": 51
        }
      },
      "source": [
        "import numpy as np \n",
        "import pandas as pd \n",
        "import re  \n",
        "import nltk \n",
        "nltk.download('stopwords')  \n",
        "from nltk.corpus import stopwords \n"
      ],
      "execution_count": 6,
      "outputs": [
        {
          "output_type": "stream",
          "text": [
            "[nltk_data] Downloading package stopwords to /root/nltk_data...\n",
            "[nltk_data]   Unzipping corpora/stopwords.zip.\n"
          ],
          "name": "stdout"
        }
      ]
    },
    {
      "cell_type": "code",
      "metadata": {
        "id": "LIIrJYhVdD9y",
        "colab_type": "code",
        "colab": {
          "base_uri": "https://localhost:8080/",
          "height": 1000
        },
        "outputId": "3141ee8c-31ec-428d-83c2-d101a84d8ec9"
      },
      "source": [
        "tweets = pd.read_csv(\"https://raw.githubusercontent.com/kolaveridi/kaggle-Twitter-US-Airline-Sentiment-/master/Tweets.csv\")\n",
        "print(tweets)"
      ],
      "execution_count": 7,
      "outputs": [
        {
          "output_type": "stream",
          "text": [
            "                 tweet_id  ...                user_timezone\n",
            "0      570306133677760513  ...   Eastern Time (US & Canada)\n",
            "1      570301130888122368  ...   Pacific Time (US & Canada)\n",
            "2      570301083672813571  ...   Central Time (US & Canada)\n",
            "3      570301031407624196  ...   Pacific Time (US & Canada)\n",
            "4      570300817074462722  ...   Pacific Time (US & Canada)\n",
            "5      570300767074181121  ...   Pacific Time (US & Canada)\n",
            "6      570300616901320704  ...   Pacific Time (US & Canada)\n",
            "7      570300248553349120  ...   Pacific Time (US & Canada)\n",
            "8      570299953286942721  ...   Pacific Time (US & Canada)\n",
            "9      570295459631263746  ...   Eastern Time (US & Canada)\n",
            "10     570294189143031808  ...   Eastern Time (US & Canada)\n",
            "11     570289724453216256  ...             America/New_York\n",
            "12     570289584061480960  ...             America/New_York\n",
            "13     570287408438120448  ...   Eastern Time (US & Canada)\n",
            "14     570285904809598977  ...   Pacific Time (US & Canada)\n",
            "15     570282469121007616  ...   Pacific Time (US & Canada)\n",
            "16     570277724385734656  ...   Pacific Time (US & Canada)\n",
            "17     570276917301137409  ...   Eastern Time (US & Canada)\n",
            "18     570270684619923457  ...       Atlantic Time (Canada)\n",
            "19     570267956648792064  ...                        Quito\n",
            "20     570265883513384960  ...                          NaN\n",
            "21     570264145116819457  ...                          NaN\n",
            "22     570259420287868928  ...   Pacific Time (US & Canada)\n",
            "23     570258822297579520  ...   Eastern Time (US & Canada)\n",
            "24     570256553502068736  ...  Mountain Time (US & Canada)\n",
            "25     570249102404923392  ...                          NaN\n",
            "26     570239632807370753  ...                          NaN\n",
            "27     570217831557677057  ...   Central Time (US & Canada)\n",
            "28     570207886493782019  ...                          NaN\n",
            "29     570124596180955136  ...       Atlantic Time (Canada)\n",
            "...                   ...  ...                          ...\n",
            "14610  569591765793165312  ...                       London\n",
            "14611  569591730506371072  ...                          NaN\n",
            "14612  569591700416393216  ...   Eastern Time (US & Canada)\n",
            "14613  569591653121597440  ...  Mountain Time (US & Canada)\n",
            "14614  569591540944756737  ...                          NaN\n",
            "14615  569591533617307648  ...   Central Time (US & Canada)\n",
            "14616  569591393540288512  ...   Eastern Time (US & Canada)\n",
            "14617  569591285150908416  ...   Eastern Time (US & Canada)\n",
            "14618  569591136534319105  ...                          NaN\n",
            "14619  569590988395708416  ...   Pacific Time (US & Canada)\n",
            "14620  569590965880532993  ...   Central Time (US & Canada)\n",
            "14621  569590892085915649  ...   Eastern Time (US & Canada)\n",
            "14622  569590191758962688  ...   Eastern Time (US & Canada)\n",
            "14623  569590013278756865  ...   Eastern Time (US & Canada)\n",
            "14624  569589959088173056  ...                          NaN\n",
            "14625  569589643487928321  ...                          NaN\n",
            "14626  569589460226183168  ...                 Buenos Aires\n",
            "14627  569588816438169600  ...   Eastern Time (US & Canada)\n",
            "14628  569588651925098496  ...   Eastern Time (US & Canada)\n",
            "14629  569588591602458624  ...   Central Time (US & Canada)\n",
            "14630  569588473050611712  ...                          NaN\n",
            "14631  569588464896876545  ...   Eastern Time (US & Canada)\n",
            "14632  569587813856841728  ...   Central Time (US & Canada)\n",
            "14633  569587705937600512  ...                      Arizona\n",
            "14634  569587691626622976  ...                        Quito\n",
            "14635  569587686496825344  ...                          NaN\n",
            "14636  569587371693355008  ...                          NaN\n",
            "14637  569587242672398336  ...                          NaN\n",
            "14638  569587188687634433  ...   Eastern Time (US & Canada)\n",
            "14639  569587140490866689  ...                          NaN\n",
            "\n",
            "[14640 rows x 15 columns]\n"
          ],
          "name": "stdout"
        }
      ]
    },
    {
      "cell_type": "code",
      "metadata": {
        "id": "yUFttnmRdTol",
        "colab_type": "code",
        "colab": {
          "base_uri": "https://localhost:8080/",
          "height": 119
        },
        "outputId": "02685a2d-6526-4db8-8038-b64e4fe90dcb"
      },
      "source": [
        "X = tweets.iloc[:, 10].values  \n",
        "y = tweets.iloc[:, 1].values\n",
        "\n",
        "print(X)"
      ],
      "execution_count": 8,
      "outputs": [
        {
          "output_type": "stream",
          "text": [
            "['@VirginAmerica What @dhepburn said.'\n",
            " \"@VirginAmerica plus you've added commercials to the experience... tacky.\"\n",
            " \"@VirginAmerica I didn't today... Must mean I need to take another trip!\"\n",
            " ... '@AmericanAir Please bring American Airlines to #BlackBerry10'\n",
            " \"@AmericanAir you have my money, you change my flight, and don't answer your phones! Any other suggestions so I can make my commitment??\"\n",
            " '@AmericanAir we have 8 ppl so we need 2 know how many seats are on the next flight. Plz put us on standby for 4 people on the next flight?']\n"
          ],
          "name": "stdout"
        }
      ]
    },
    {
      "cell_type": "code",
      "metadata": {
        "id": "wCbe6x3cqOAR",
        "colab_type": "code",
        "colab": {}
      },
      "source": [
        "processed_tweets = []\n",
        " \n",
        "for tweet in range(0, len(X)):  \n",
        "    # Remove all the special characters\n",
        "    processed_tweet = re.sub(r'\\W', ' ', str(X[tweet]))\n",
        " \n",
        "    # remove all single characters\n",
        "    processed_tweet = re.sub(r'\\s+[a-zA-Z]\\s+', ' ', processed_tweet)\n",
        " \n",
        "    # Remove single characters from the start\n",
        "    processed_tweet = re.sub(r'\\^[a-zA-Z]\\s+', ' ', processed_tweet) \n",
        " \n",
        "    # Substituting multiple spaces with single space\n",
        "    processed_tweet= re.sub(r'\\s+', ' ', processed_tweet, flags=re.I)\n",
        " \n",
        "    # Removing prefixed 'b'\n",
        "    processed_tweet = re.sub(r'^b\\s+', '', processed_tweet)\n",
        " \n",
        "    # Converting to Lowercase\n",
        "    processed_tweet = processed_tweet.lower()\n",
        " \n",
        "    processed_tweets.append(processed_tweet)"
      ],
      "execution_count": 0,
      "outputs": []
    },
    {
      "cell_type": "code",
      "metadata": {
        "id": "fvvzPXC7daw9",
        "colab_type": "code",
        "colab": {}
      },
      "source": [
        "from sklearn.feature_extraction.text import TfidfVectorizer  \n",
        "tfidfconverter = TfidfVectorizer(max_features=2000, min_df=5, max_df=0.7, stop_words=stopwords.words('english'))  \n",
        "X = tfidfconverter.fit_transform(processed_tweets).toarray()\n"
      ],
      "execution_count": 0,
      "outputs": []
    },
    {
      "cell_type": "code",
      "metadata": {
        "id": "_yReZpg4dftB",
        "colab_type": "code",
        "outputId": "d5fa5310-1623-45ca-e893-2b306ed665b2",
        "colab": {
          "base_uri": "https://localhost:8080/",
          "height": 136
        }
      },
      "source": [
        "from sklearn.ensemble import RandomForestClassifier\n",
        "text_classifier = RandomForestClassifier(n_estimators=100, random_state=0)  \n",
        "text_classifier.fit(X, y)\n"
      ],
      "execution_count": 11,
      "outputs": [
        {
          "output_type": "execute_result",
          "data": {
            "text/plain": [
              "RandomForestClassifier(bootstrap=True, class_weight=None, criterion='gini',\n",
              "                       max_depth=None, max_features='auto', max_leaf_nodes=None,\n",
              "                       min_impurity_decrease=0.0, min_impurity_split=None,\n",
              "                       min_samples_leaf=1, min_samples_split=2,\n",
              "                       min_weight_fraction_leaf=0.0, n_estimators=100,\n",
              "                       n_jobs=None, oob_score=False, random_state=0, verbose=0,\n",
              "                       warm_start=False)"
            ]
          },
          "metadata": {
            "tags": []
          },
          "execution_count": 11
        }
      ]
    },
    {
      "cell_type": "code",
      "metadata": {
        "id": "PiH3lhymdsYI",
        "colab_type": "code",
        "outputId": "bc0a8f59-565d-4844-bf5d-5cc3395ec233",
        "colab": {
          "base_uri": "https://localhost:8080/",
          "height": 1000
        }
      },
      "source": [
        "for tweet in all_tweets:\n",
        "    # Remove all the special characters\n",
        "    processed_tweet = re.sub(r'\\W', ' ', tweet)\n",
        " \n",
        "    # remove all single characters\n",
        "    processed_tweet = re.sub(r'\\s+[a-zA-Z]\\s+', ' ', processed_tweet)\n",
        " \n",
        "    # Remove single characters from the start\n",
        "    processed_tweet = re.sub(r'\\^[a-zA-Z]\\s+', ' ', processed_tweet) \n",
        " \n",
        "    # Substituting multiple spaces with single space\n",
        "    processed_tweet= re.sub(r'\\s+', ' ', processed_tweet, flags=re.I)\n",
        " \n",
        "    # Removing prefixed 'b'\n",
        "    processed_tweet = re.sub(r'^b\\s+', '', processed_tweet)\n",
        " \n",
        "    # Converting to Lowercase\n",
        "    processed_tweet = processed_tweet.lower()\n",
        " \n",
        "    sentiment = text_classifier.predict(tfidfconverter.transform([ processed_tweet]).toarray())\n",
        "    print(processed_tweet ,\":\", sentiment)\n"
      ],
      "execution_count": 12,
      "outputs": [
        {
          "output_type": "stream",
          "text": [
            "brexit dominic cummings blamed for unofficial no 10 briefing threatening eu states that back extension live news https co 3ajomrzxkg : ['neutral']\n",
            "brexit latest news downing street prepares for brexit talks to collapse this week as number 10 source says party https co fgcsqo6grw : ['neutral']\n",
            "brexit uk moves to scrap level playing field with eu https co 4lnaovmhiv https co 2gtbarvo1u : ['neutral']\n",
            " citizentommy why don they use the mandate tommy is it incase it causes split in the country same as brexit has with the uk  : ['negative']\n",
            " tomhalliday18 emmakennedy ahhh well if roger says it all ok then brexit must be good idea after he knows https co 0fa6tu4ncg : ['negative']\n",
            " mongan_mick gazmavfc bbcpolitics there the old we won you lost nana nana na defence honestly don see anyt https co dx8j1kcsnq : ['neutral']\n",
            "in my netzero speech called for the autumn budget to be climate emergency budget not just pre election givea https co yuyflce56h : ['neutral']\n",
            "it is vital that the uk regains complete control of our defence and foreign policy withdrawal agreement as is fail https co hxaehky78m : ['neutral']\n",
            " lynn_gt nickreeves9876 jeremycorbyn they are not voting for corbyn but voting to stop brexit now who persuad https co rvxlt0hglg : ['neutral']\n",
            "is it case of dublin says no derailing hopes of brexit deal we are talking to sammy wilson mp of duponline https co des4krlkgk : ['neutral']\n",
            " gregjames creating the biggest divide in the nation since brexit completely disagree with today referendum resu https co txz8s47stp : ['neutral']\n",
            " flash430 bbclaurak yeah right at 100bn cost what great idea not https co xdlpmlaxza : ['positive']\n",
            " brexit explained by davidallengreen recommended by jorisluijendijk https co lmlzmwpvo7 : ['neutral']\n",
            "if keeping northern ireland in the eu customs union is red line for brussels then with the current uk governme https co knim7sfhqe : ['negative']\n",
            "exactly what dominiccummings borisjohnson and all the other rabid pro brexit crazies want as they re all set to https co lta6zgdthf : ['neutral']\n",
            " brexit 2019 everyone https co arlrvzbyc7 : ['neutral']\n",
            "the uk becoming low tariff wasteland uk tweaks tariffs amid no deal brexit countdown https co m4bryfj5mm : ['negative']\n",
            "bbc news no deal brexit would push uk debt to 50 year high says think tank best scenario is of course to remai https co ncxr9fq6al : ['negative']\n",
            " bbclaurak that suggests the chance of deal had legs in the first place this government still has no idea how https co l2w2jp3ybn : ['negative']\n",
            " bbcnews something else cummings and his dummy johnson have engiineered what is happening to democracy in this cou https co qfhcbpdamc : ['neutral']\n",
            " petewishart pete would have hoped that the scottish government would have started it own get ready for brexit https co mm2tzzcsjx : ['neutral']\n",
            "who would have guessed that the anti brexit democracy muppets were very closely aligned with the xr nutters https co mhm2izpnpe : ['neutral']\n",
            "what brexit blues how savvy uk businesses are prospering in the face of adversity https co w7ybibgtl0 https co 4yhdvjiuad : ['neutral']\n",
            "i am more than content with clean break brexit https co 6ymhlfeyvg : ['neutral']\n",
            "having clashed fair bit on social media with cummings when he was at education this is him or brilliant parod https co p2znphhjyg : ['neutral']\n",
            "many people are under the illusion that to just get brexit done is thing because politicians particularly thos https co cea2yn6xx9 : ['negative']\n",
            "merkel has declared northern ireland is stumbling block in johnson proposed brexit deal talks allegedly effectively over  : ['negative']\n",
            " avarakai expect military rule in the uk if the current political situation worsens irish and scottish separatists https co v8a519klew : ['neutral']\n",
            " bbclaurak the position is as it always has been there can be no brexit unless the whole uk stays in the customs https co 4oj2c7atnu : ['negative']\n",
            " johnrentoul brexit fatigue means that all options to bring it to an end must be gaining ground and would asses https co 5wvnsduv5q : ['negative']\n",
            " s_everson how do you deal with johnson over brexit  : ['negative']\n",
            " bbclaurak as does dan hannan claim that brexit undermining the peace process as project fear  : ['negative']\n",
            " peston dear eucopresident clearly we have technical glitch in uk governance at this moment please do not ad https co yqegabto1i : ['negative']\n",
            "the remainers stymying brexit right now are actually making our departure from the eu all the more certain https co buqurznaiw : ['neutral']\n",
            "banking giant hsbc set to fire 10 000 more employees bitcoin news hsbc financialtimes brexit bancosantander https co iqbyohh9vc : ['neutral']\n",
            " mrjamesob brexit questions why do people who hated mays deal so vehemently defend johnsons are some people dia https co oynl8u7q8i : ['negative']\n",
            "also mhairiblack would be great interim pm because there no conflict of interest when it comes to brexit and https co vfcszlr4dl : ['positive']\n",
            "latest on boris johnson brexit proposals https co gsorl1gryb : ['neutral']\n",
            " brexit is like sticking two fingers up at window and then discovering it a mirror brexit brexitannia https co nd2x8gtadt : ['neutral']\n",
            " faisalislam jim_cornelius so confront this brexit ratchet effect is ridiculous we have to confront it https co r45imkxesg : ['neutral']\n",
            "once brexit is here we will compete with eire for their little business of hosting profitable offices we will https co 1dayzdqdcg : ['neutral']\n",
            " stevebakerhw think you ll find that what is really outrageous is the fact that our democracy allowed the lies ab https co opnveuxaox : ['neutral']\n",
            " _brexittory they have outflanked the man with the megaphone shouting to stop brexit  : ['negative']\n",
            "court asked to consider brexit delay letter to eu no boris has to do it or go to prison for breaking the law thi https co 8uxgvridpn : ['negative']\n",
            "seriously the failure of the broadcast media in particular itv and the bbc over brexit has been epic epic and deeply depressing  : ['negative']\n",
            "sell whole country for your career brexit brexitchaos not sure if feel disgusted incredulous or shoc https co 5nfj4ucei6 : ['negative']\n",
            "thornberry talks like this all the time she thinks she is being clever saying the re all like children and grown https co vjf6m91vni : ['negative']\n",
            " relovedreams jeremycorbyn ge is very bad idea until brexit is stopped  : ['negative']\n",
            "however brexit happens it will have big impact on ireland smes budget2020 should allow for vouchers for https co iyy6uuspf5 : ['neutral']\n",
            " threeuksupport ok 20 mins now how about hanging on the telephone rather than kyle should start twitter https co xgfq6pwuna : ['negative']\n",
            "why is westminster failing to understand the eu side then simply put because to do so would mean to recognise one https co sycqtgrjb3 : ['negative']\n",
            "brexit dominic cummings blamed for unofficial no 10 briefing threatening eu states that back extension live news https co hn4vyxvtts : ['neutral']\n",
            " oxforddiplomat exasperatedtory brexit means brexit leave means leave quit means quitlings remembering the lead https co 4cz7bxmzjf : ['negative']\n",
            "red tape bill for uk eu trade under no deal brexit set to hit 15bn year https co nsj6lm5vaq 15b plus su https co toz7odoywl : ['neutral']\n",
            "germany merkel says will discuss brexit with european parliament head david sassoli today : ['negative']\n",
            "brexit 2016 sunlit uplands brexit 2019 we successfully evacuated 140000 customers of failed uk business from https co 2nefepvtua : ['negative']\n",
            "no deal brexit would push uk debt to 50 year high says think tank https co 2vnwqzuwvu https co fwetuw8ibq : ['neutral']\n",
            " hilarybennmp that doesn make sense asking people to vote on something doesn get anything done the dishones https co q4hiltowxh : ['negative']\n",
            "brexit uncertainty boosted it contractors in september https co o9egamsaqt : ['neutral']\n",
            " derekmeers jaybhattnl nicolasturgeon are you on drugs or something labour are all over the place on brexit  : ['negative']\n",
            " skynews omg run for the hills can handle stopping swimming but the expensive blouses is step too far st https co r1on3dc0zm : ['negative']\n",
            " nigel_farage post brexit to do list reclaim hong kong : ['negative']\n",
            " brexit uk prepares for breakdown in talks with eu via bbcworld https co kmmpybvgv5 : ['neutral']\n",
            " ohgoshkash campaigners are expected to lodge an appeal after judge dismissed legal action https co urramgopyx : ['neutral']\n",
            "bbc news no deal brexit would push uk debt to 50 year high says think tank https co vuqskvxm0k : ['negative']\n",
            " yescotland snowy273 missgabillard only people who are lying are unionists lying about the effects of austerity https co ug8f0mw9h2 : ['neutral']\n",
            " brexit johnson is dangerous egomaniac who brings shame and ridicule to our nation from which we may never recov https co tisfxumwpc : ['neutral']\n",
            "they continue on like your brexit vote never happened https co pvy0xhuzch : ['negative']\n",
            "will tax change after brexit frequently asked questions and answers we hear from our clients can when considering https co bluggbxtn0 : ['negative']\n",
            " irinavonwiese bylinetimes they certainly are hate brexit but am baffled why we dont hear our media anything https co a20ehxxlhy : ['negative']\n",
            "i thought they wanted to stop no deal brexit https co yf4s3acsac : ['neutral']\n",
            " richardpth tory govt have amassed national debt of 1 7 trillion thats without their promised spending amp the brex https co uwdgtmbz3b : ['neutral']\n",
            " adamboultonsky so now we have perspective the reality is that economic analysis is heavily swayed to an increase https co jbrcyudinx : ['neutral']\n",
            " brexit rightnow : ['negative']\n",
            " etonoldboys nicky7755 brexit ratchet effect is ridiculous we have to confront it https co r45imkxesg : ['neutral']\n",
            "brexit deal talks close to breakdown as no10 plunge into blame game and threats downing street is threatening to se https co 2t9svpqxds : ['negative']\n",
            " stevebakerhw less brexit bullshit  : ['negative']\n",
            "bit baffling this idea of second referendum to clear the air supposing the result is leave 17 4m and remain 16 https co ork4qdpxjw : ['negative']\n",
            "brexit will be delayed again we ll never see the end of this farce : ['negative']\n",
            "insightful new research by our client jrf_uk in thetimes this morning highlighting the importance of low income https co sttch5qttb : ['neutral']\n",
            " bizgrowthhub mh_mfg_advisor we are attending the one in chester brexit prepareyourbusiness : ['negative']\n",
            "yeah this brexit irishborder toeragjohnson https co o3ocuzrw7m : ['neutral']\n",
            " spartaq leedisco1 its_johnmartin bbclaurak you seem to be missing the point that we re all on the same side her https co z6ssuil3qg : ['neutral']\n",
            " skynews and meteor could hit the earth after no deal brexit is this really story whatever it is am not reading it  : ['negative']\n",
            " jamesriley18 grayheath56 zoeparamour patanna agree wish some leavers would start to realise that its union https co gwngmca4n2 : ['neutral']\n",
            " derekjames150 d have to can say d do good job though and they might find lot of bollocks to brexit stickers appearing  : ['negative']\n",
            " metrolink_ie more bolox string everyone along till after election then put it in hold and blame brexit  : ['negative']\n",
            "attending the dit brexit workshop at the radisson northampton to make sure we are fully prepared to maintain our ex https co hm70yce0fe : ['neutral']\n",
            "consumer spending suffered its worst september for decades last month as the possibility of no deal brexit loomed https co bbpueltmtk : ['negative']\n",
            " jamiewoodhouse it was on the referendum leave there was no ifs no buts the only version of brexit we voted for was to leave the eu  : ['negative']\n",
            " merkel tight lipped on brexit as she welcomes europarl_en president sassoli for talks in berlin ahead of his tr https co xube0dqa1e : ['neutral']\n",
            "urgent merkel says brexit deal unlikely unless northern ireland stays in customs union reports https co x6qmytn7i2 : ['neutral']\n",
            " lewis_goodall and thats been the predicate of brexit if you don believe that and more so one of we are med https co bolcgkv22n : ['negative']\n",
            " gynx85 countess_brexit bbcnews skynews channel4news itvnews channel5n no basis really https co tu8lfh0wi2 : ['neutral']\n",
            " shadowaemeh davidlammy think that brexit on balance is folly but it should be clear to everyone that tha https co hcghxpfz8y : ['neutral']\n",
            "no deal brexit would push national debt to levels last seen in 60s https co bz7hmhq0xb : ['neutral']\n",
            " peter_chave docrussjackson conservatives voteleave bbcnews ehrc hope your right but corbyn hasn got the lib https co ggton4nfss : ['neutral']\n",
            " brexit if the talks collapse it would be failure of statecraft on all sides : ['negative']\n",
            " scottories half of all farms will fail under no deal brexit that the certainty you bring and we all know th https co zpjylyklma : ['neutral']\n",
            "boris johnson faces court challenge over no deal brexit from low paid workers https co aruoqgwciu : ['neutral']\n",
            " dpjhodges enjoy your brexit  : ['negative']\n",
            "great thread politics can be about making law but sometimes law defines and constrains politics failure to un https co rbo0kuyppr : ['positive']\n",
            "brexit cycle lanes and saudi arabia ctf facebook campaigns https co bq6swh4es9 : ['neutral']\n",
            "uk govt source confirms brexit talks close to collapse both sides digging in with blame game starting brexit gbp nodeal : ['negative']\n",
            " fulfordmalcolm minski6283 hardrighthettie mssassysally gov have no time for climate change this month brexit takes preference i : ['neutral']\n",
            "hell yeah this should be the first thing done after brexit https co gh0ji4pb9s : ['neutral']\n",
            "uk budget deficit likely to double to 100 billion pounds in no deal brexit ifs click link to read more https co cgpuszjzp1 : ['negative']\n",
            " derekjames150 d choose someone who paid attention to detail someone with high moral standards not someone who https co vu5ithqkih : ['negative']\n",
            "i feel sure that if there was strong groundswell in the country in support of brexit then mps would recognise https co 8nfkqkbop3 : ['neutral']\n",
            "take look at major new funding to support firms brexit preparations on the business amp innovation magazine website https co qforpstrtn : ['negative']\n",
            " sandravelthuis the_wheel_irl had to shut down the charity ran because we were merged with uk and charity regula https co 84umymhjlz : ['neutral']\n",
            "i hate eddie hearn because im pro brexit and eddie started matchroom promotions up in foreign countries fucking https co gabsmr5hsj : ['neutral']\n",
            " englishnationa1 where does the evidence for this claim about post brexit deployment of british forces come from  : ['negative']\n",
            " rbreich 1 2 whose hands does this play into e syrian war refugees to europe destabilization amp rise of https co vvnho12tkz : ['neutral']\n",
            "so remind me why we re doing this brexit thing again hmmm https co mfy1incgpd : ['neutral']\n",
            "new post blouses and male swimwear could cost more under no deal brexit https co ml5avsaqzz : ['neutral']\n",
            " michael86972831 with any change there will always be winners and losers that true but the signs are that since https co k9cnsplh80 : ['neutral']\n",
            "a fabulous opportunity to purchase this 5 beds 3 baths villa forsale in albox almería in spain for just 269 5 https co srmpe494ed : ['neutral']\n",
            "yes and don forget both parties are promising more spending which will put it even higher bbc news no deal br https co qjcqmjsdch : ['negative']\n",
            "commemorative coins this is peak brexit as the whole world becomes more integrated and moves to cashless transac https co o0ltagamyt : ['neutral']\n",
            "this is the second twit in row re brexit damages to the british economy why do the govt keep insisting on it https co v8jdihngd9 : ['neutral']\n",
            " countess_brexit not enough : ['negative']\n",
            "while no 10 flails on brexit dutch pm mark rutte is busy down under boosting ties with er the countries that bri https co 1xktnd2k1y : ['neutral']\n",
            " colinparrypeace just think how brilliant the world will look when you wake up makes brexit pale into insignifican https co hyb4rhqiu6 : ['neutral']\n",
            " fd another brexit is proving difficult let forget about it tweet great stuff : ['positive']\n",
            " bbclaurak really just died so the whole thing wasn just charade for the benefit of the no deal brex https co p3jkfuvnf9 : ['neutral']\n",
            " bbcr4today amberruddhr nothing compared to what remainers have done colluding with eu to stop brexit  : ['negative']\n",
            "https co 2v9yf8spx0 fast five eu on verge of huge tactical brexit mistake nwo https co oc5jclucpl https co y56q7pueki : ['neutral']\n",
            " derekjames150 work for someone who is as pro brexit as you can get it not easy we have agreed to ban the https co jhshqcpjuu : ['negative']\n",
            " michaelrosenyes i was astounded when it seemed they were going to go through with brexit after the problems became apparent  : ['negative']\n",
            " hantschamber are running four free of charge brexit boot camps over the next few weeks providing advice for busin https co sqx3p1fbps : ['negative']\n",
            "you don want iwgbunion coming for ya borisjohnson all we do is win https co jylev9tmvd : ['neutral']\n",
            " 20times20times that was my favourite brexit story more post brexit dogging  : ['negative']\n",
            "you know who will have to pay for this brexitshambles brexitchaos bbc news no deal brexit would push uk de https co ahovbhfm0f : ['negative']\n",
            "talking about brexit on behalf of fragomen live at 1pm on the global hr think tank webex for net_expat have lots https co qenegzdzln : ['negative']\n",
            "warnings as brexit and china stifle recruitment firms https co wyhknurst6 https co jez2lvpcxp : ['neutral']\n",
            "parliament and remain mps will be blamed more than boris johnson for brexit delay poll reveals https co 5yfpo7vdek via telegraph : ['negative']\n",
            "fears that dogging will increase with no deal brexit indicate peculiarly english mindset https co qbrclyr4bs : ['neutral']\n",
            " tootvjoot davidof1962 clive_allan danbloom1 standup4brexit ok we re now on to word salad ok see the rapid https co ptrlw4t29b : ['neutral']\n",
            " beardyr0ry mrprowestie it the brexit  : ['negative']\n",
            " brexit latest from bbc merkel says can only be deal if ni stays in customs union if not deal overwhelmi https co m7uuc39n3h : ['neutral']\n",
            "it isnt irelands fault they dont need to make concessions it isnt the eu fault they didnt ask us to leave it https co kirbr9trh6 : ['negative']\n",
            "things looking increasingly bleak for brexit deal merkel says overwhelmingly unlikely on pm terms see https co il1cjnupkn : ['neutral']\n",
            " bbclaurak read 5 replies to this and each one was bot account spreading disinformation looks like the brexit side is in panic  : ['negative']\n",
            "free breakfast seminar 16th october in portlaoise about brexit and its impact on data sharing register here https co dbxi5ipkul : ['neutral']\n",
            " pickardje like qe brexit will go on indefinitely https co xq4pvnk0oo : ['neutral']\n",
            "an absolute failure of statecraft facilitated by the brexit blocking idiots in parliament who have chosen chaos ove https co o30dk7lr4r : ['neutral']\n",
            "what bloody crap is this eu won fall for this bs surely what an embarrassment https co hpyg26ubgf via cityam : ['neutral']\n",
            "brexit shock no deal will cost eu 500billion https co 7ixth7fts0 : ['neutral']\n",
            "the finance minister says there will be absolutely no surprises when he announces budget2020 later https co y6fgiaoau7 : ['neutral']\n",
            "calls for multi million euro budget 2020 brexit fund to deliver for all farmers https co 6v0gxqhxvt : ['neutral']\n",
            "new post blouses and male swimwear could cost more under no deal brexit https co npkjku64bz : ['neutral']\n",
            " anna_soubry bbclaurak only corbyn led labour govt will fight the tories policies that have caused deaths and mi https co psrwv4jsdj : ['neutral']\n",
            "brexit dominic cummings blamed for unofficial no 10 briefing threatening eu states that back extension live news https co 0nbhimcadt : ['neutral']\n",
            "in the irish election of 1918 sinn fein won 98 of the vote but rather than accede to the democratic wish of the https co twvqneuexw : ['neutral']\n",
            " hilarybennmp don think it would make any difference at all these games have to stop and brexit must get done x : ['negative']\n",
            "we like to criticise the brexit language of others then use phrases like corbyn jew haters and lib dem eu boot https co e2jzl5z2so : ['neutral']\n",
            "the premier league hates brexit maybe all the brexidiots should stop watching football conservatives https co to9zb5kkwv : ['neutral']\n",
            " neilfindlay_msp like the broon envelope socialism enacted by labour for decades the nationalism slur doesn https co d9qmffezdx : ['neutral']\n",
            " pickardje at most it will be festival of brexit england : ['negative']\n",
            " mrfixitstips brexit team : ['negative']\n",
            "clean break brexit on 31 10 https co f5naotddte : ['neutral']\n",
            "brexit myths and disinformation facts and explainers https co 8pev3ihmto : ['neutral']\n",
            "the irish border is matter of life and death not technology fintan toole https co is4yflwdpp : ['neutral']\n",
            "brexit fatigue will ensure that the coming ge is not about brexit  : ['negative']\n",
            " arfursmith no it a portrait of no brexit arthur the wilderness that left when votes don count happy days : ['negative']\n",
            " chrisgiles_ financialtimes but but but what about the brexit dividend and the money we won have to send to br https co p47tdsoha7 : ['neutral']\n",
            "very easy to say few percentage points off gdp is price worth paying to deliver brexit in which case advocates https co spnrg7rofa : ['negative']\n",
            "who will pay for brexit it won be the idiots pushing it it will be the tax payer taxes will have to go up https co ipqkppni7h : ['neutral']\n",
            " ghost_wales helendthelist am sure there will be many more like us and yes it will one day be full brexit amp victory  : ['negative']\n",
            " danielchapman86 andrew_comres comres telegraph only 13 understand that the tories had majority with which to https co evogoniz2q : ['neutral']\n",
            " jh_brexit chrislesliemp forchange_now borisjohnson the gov has had three years to come up with some specifics https co zmkhxlpaf1 : ['neutral']\n",
            " theledge71 blackxlist joswinson heidiallen75 libdems enjoy no deal brexit  : ['negative']\n",
            " bigfinish the magical fairyland where creature known as the workable brexit lives or the timeline whe https co sjdkge4x79 : ['neutral']\n",
            "no deal brexit would push borrowing above 100bn ifs warns business news sky news https co 7zng5g8vjm : ['negative']\n",
            "i really need to get myself an irish passport tbh don know how much good it ll be in this inevitable no deal bre https co ma8zkczoas : ['negative']\n",
            "so it almost time borisjohnson talks are about to collapse so obey the law get an extension then we can elect https co flwmn3gr9r : ['neutral']\n",
            " change_britain of course it was surrender act it is constitutionally unsound and should imagine illegal it https co vhmchkmmcb : ['neutral']\n",
            " running deliberate policy of making government departments issue announcements with little fact or basis behind https co owpvhso5o1 : ['negative']\n",
            " bbclaurak so brexit isn happening then great stuff  : ['positive']\n",
            "furious amber rudd exposes who wrote threatening no deal brexit memo it desperate https co 26lcloyeq1 expec https co v5i43badpw : ['neutral']\n",
            "no deal brexit could kill with medicine shortages putting thousands at risk https co irr7r7fsad : ['neutral']\n",
            "fake news no deal brexit would push uk debt to 50 year high says think tank https co gr2y2ttil1 : ['negative']\n",
            " wakeuptomoney bad reporting or contrived brexit blame louise at the start of the program you say the financial cr https co 2midyg7kaz : ['neutral']\n",
            "brexit is the bitterest catastrophic tory bribery unbelievably duplicitous tyre fire pissing broken hypocrite : ['negative']\n",
            " choaglandld brexit will have the effect of even more mental health issues in witney as farmers struggle in brexit https co i2jwi5ekjn : ['neutral']\n",
            "many activists think they are first ones to raise climate change as an issue then they patronise us about it me https co klqyfbgvdp : ['negative']\n",
            "brexit approaches juncker doubts deal can occur https co k5v3dnywrn via youtube : ['neutral']\n",
            " irishinuk wendybaileypr anna_soubry bbclaurak haha you seriously think you can stop brexit try worrying about your own country seamus : ['negative']\n",
            " no deal brexit would push uk debt to 50 year high says think tank https co a1qzp6mchp : ['negative']\n",
            "is it just me or is the world falling apart ongoing protests in hong kong climate protests everywhere trump gen https co y5ewpozctu : ['neutral']\n",
            " nicksan85494149 jeremycorbyn far better to repeatedly say get brexit done at every opportunity : ['negative']\n",
            " borisjohnson polls show that most people do not want brexit at all anymore ask us give us peoples vote  : ['negative']\n",
            "industrial production in europe powerhouse economy germany saw slight rebound in latest data but business is ra https co e5p2i5vcgh : ['neutral']\n",
            " davidyelland more seriously the implications post brexit if it happens then small number of people can take dec https co xn8eagg6wq : ['negative']\n",
            "he kept falling down so made him bridge whipped rope around pipe from some garden project in other new https co t0almkdfsv : ['neutral']\n",
            " brexit_dj davidlammy disliking bad food standards is anti american and treasonous nothing but surrender with you https co vzzdxpqh9l : ['negative']\n",
            " otto_english raccoon led government that ditched brexit would leave britain 4 better off than johnson led no deal government  : ['negative']\n",
            "all these pundits mentioning relegation is like the brexit scaremongering all over again might just put craz https co 8oprhexgjs : ['neutral']\n",
            " bbcburnsy once again your news room pushing remain propaganda text messages from unknown source maybe no10 and https co mbskz2gd9s : ['neutral']\n"
          ],
          "name": "stdout"
        }
      ]
    }
  ]
}