{
  "nbformat": 4,
  "nbformat_minor": 0,
  "metadata": {
    "colab": {
      "name": "BrexitSentimentAnalysis.ipynb",
      "provenance": [],
      "include_colab_link": true
    },
    "kernelspec": {
      "name": "python3",
      "display_name": "Python 3"
    }
  },
  "cells": [
    {
      "cell_type": "markdown",
      "metadata": {
        "id": "view-in-github",
        "colab_type": "text"
      },
      "source": [
        "<a href=\"https://colab.research.google.com/github/sagihaider/BrexitTwitterSentimentAnalysis/blob/master/BrexitSentimentAnalysis.ipynb\" target=\"_parent\"><img src=\"https://colab.research.google.com/assets/colab-badge.svg\" alt=\"Open In Colab\"/></a>"
      ]
    },
    {
      "cell_type": "code",
      "metadata": {
        "id": "sF2mRiOZa1Ms",
        "colab_type": "code",
        "colab": {
          "base_uri": "https://localhost:8080/",
          "height": 187
        },
        "outputId": "ec6e6ec8-24a8-4190-eabb-80bf64b9cdc8"
      },
      "source": [
        "!pip install tweepy"
      ],
      "execution_count": 13,
      "outputs": [
        {
          "output_type": "stream",
          "text": [
            "Requirement already satisfied: tweepy in /usr/local/lib/python3.6/dist-packages (3.6.0)\n",
            "Requirement already satisfied: six>=1.10.0 in /usr/local/lib/python3.6/dist-packages (from tweepy) (1.12.0)\n",
            "Requirement already satisfied: requests>=2.11.1 in /usr/local/lib/python3.6/dist-packages (from tweepy) (2.21.0)\n",
            "Requirement already satisfied: requests-oauthlib>=0.7.0 in /usr/local/lib/python3.6/dist-packages (from tweepy) (1.2.0)\n",
            "Requirement already satisfied: PySocks>=1.5.7 in /usr/local/lib/python3.6/dist-packages (from tweepy) (1.7.0)\n",
            "Requirement already satisfied: chardet<3.1.0,>=3.0.2 in /usr/local/lib/python3.6/dist-packages (from requests>=2.11.1->tweepy) (3.0.4)\n",
            "Requirement already satisfied: urllib3<1.25,>=1.21.1 in /usr/local/lib/python3.6/dist-packages (from requests>=2.11.1->tweepy) (1.24.3)\n",
            "Requirement already satisfied: idna<2.9,>=2.5 in /usr/local/lib/python3.6/dist-packages (from requests>=2.11.1->tweepy) (2.8)\n",
            "Requirement already satisfied: certifi>=2017.4.17 in /usr/local/lib/python3.6/dist-packages (from requests>=2.11.1->tweepy) (2019.6.16)\n",
            "Requirement already satisfied: oauthlib>=3.0.0 in /usr/local/lib/python3.6/dist-packages (from requests-oauthlib>=0.7.0->tweepy) (3.1.0)\n"
          ],
          "name": "stdout"
        }
      ]
    },
    {
      "cell_type": "code",
      "metadata": {
        "id": "MBSMP6OHbDo9",
        "colab_type": "code",
        "colab": {}
      },
      "source": [
        "import re\n",
        "import tweepy\n",
        " \n",
        "from tweepy import OAuthHandler\n",
        " \n",
        "consumer_api_key = 'Use your key'\n",
        "consumer_api_secret = 'use your key' \n",
        "access_token = 'Use your key'\n",
        "access_token_secret ='Use your key'\n",
        " "
      ],
      "execution_count": 0,
      "outputs": []
    },
    {
      "cell_type": "code",
      "metadata": {
        "id": "3DXzCMJPbUSe",
        "colab_type": "code",
        "colab": {}
      },
      "source": [
        "authorizer = OAuthHandler(consumer_api_key, consumer_api_secret)\n",
        "authorizer.set_access_token(access_token, access_token_secret)\n"
      ],
      "execution_count": 0,
      "outputs": []
    },
    {
      "cell_type": "code",
      "metadata": {
        "id": "PCvHKeQsbfvp",
        "colab_type": "code",
        "colab": {}
      },
      "source": [
        "api = tweepy.API(authorizer ,timeout=15)\n",
        " \n",
        "all_tweets = []\n",
        " \n",
        "search_query = 'brexit'\n",
        " \n",
        "for tweet_object in tweepy.Cursor(api.search,q=search_query+\" -filter:retweets\",lang='en',result_type='recent').items(200):\n",
        "    all_tweets.append(tweet_object.text)"
      ],
      "execution_count": 0,
      "outputs": []
    },
    {
      "cell_type": "code",
      "metadata": {
        "id": "ovmgZsegcr4Z",
        "colab_type": "code",
        "colab": {
          "base_uri": "https://localhost:8080/",
          "height": 54
        },
        "outputId": "e8e1c52b-69d1-422f-9eb6-8624a0c2f7c4"
      },
      "source": [
        "print(all_tweets)"
      ],
      "execution_count": 24,
      "outputs": [
        {
          "output_type": "stream",
          "text": [
            "['Martial law could be used to quash civil unrest in the event of a no-deal Brexit | inews https://t.co/Vav5YpgjWK', \"Couldn't resist : https://t.co/t4qr9N1bUU #brexit #Remain\", '@thinkdefence How many synonyms for the word nothing would you like?\\n\\nA majority of people wanted Brexit, but only… https://t.co/WiierBZtfz', \"@mikeirons12 IMHO Michael, you're not wrong!\\n\\nYou can see from the #s that I could ONLY vote LibDem, &amp; I'm not a na… https://t.co/N97x1r5lLl\", '@IvisonJ I am embarrassed about him already.  Scheer has questionable stances/opinions: more traffic lanes reduces… https://t.co/rGQpmm2wZJ', '@MPIainDS You failed to build a system that actually works, let alons works for the many.  Too busy picking your no… https://t.co/I2LygFZzrW', '@CinderfordAsh @RobexMainlamarf @Joannecoates9 Yep that is the reality. Then you really will be stuck in the EU. Th… https://t.co/XdvoS17lVo', \"Great afternoon for the Brexit party. No sign of any Labour or Conservatives campaigning in Rushmoor, can't imagine… https://t.co/f60Ppj1lA2\", '@IanCornwell6 @memcculloch @BorisJohnson @Conservatives @UKLabour @Conservatives have a monopoly on affronting the… https://t.co/IJ3GXs0AOQ', 'Lovely vote swings here .\\n\\nStill too high a vote for Tories but lovely to see a 5 point gain for Labour and Lib Dem… https://t.co/JQeRz20kJG', '@IainDale I’m pretty sure most people’s position on Brexit has evolved since then Iain. To point this out is a stat… https://t.co/rvbDM0wy8V', 'Johnson’s obscene behaviour this week confirms the arrival of Trumpian Britain\\xa0 https://t.co/H2DqqRjMtA via @prospect_uk', '@LadyDurrant @BorisJohnson Back Boris to get the job done and deliver for 17.4 Million voters who were promised the… https://t.co/HTvI5jNCas', \"As I have said previously I'm neutral on Brexit but this is obscenely racist crap from @blaiklockBP will drive many… https://t.co/3km8SvJBKL\", '@JMcCawberMEP Brexit was a referendum to leave the EU deal, not to replace the EU deal with another EU deal.', 'Just in case you were in any doubt https://t.co/WthPwT6lo3', '@backnsallz @UB5simon @EdwardBedivere @BorisJohnson I suppose this Nobel prize winning economist is just a moron wh… https://t.co/DTtkkmqckt', '@BorisJohnson #CrimeMinister questions - Is the  need to get Brexit done for your hedge fund backers to short the pound and profit billions?', '@BorisJohnson We need to get rid of you, stop Brexit &amp; focus on the NHS, policing &amp; school.  You &amp; your party could… https://t.co/nluOA0gOtY', '@MPIainDS Ain’t going to be any jobs after your disaster capitalist Brexit.', '@eldis60 @DanielT5K @SGTVance @funlovingNicole @pdp8l @Luolah1 @SpartanEdgeX28 @JRH56536449 @Lescash1968… https://t.co/5Oc9fnLrWJ', '@Manthorp I think it’ll be a tory/Brexit Party coalition.\\n\\nBecause I’m a pessimist with a fondness for dystopian futures.', '@guilt_manager @DavidLammy @jeremycorbyn @johnmcdonnellMP @joswinson @HarrietHarman @IanBlackfordMP @LordRennard… https://t.co/JlYyh9R6x5', '@piersmorgan instead all the brexit and how crap the UK parliament is tweets, tweet about your friends new album, g… https://t.co/zGi7Vw2EFu', \"@TheEconomist @dwallacewells It's having a hard enough time surviving Brexit.\", 'Bob Moran on #RemainAlliance #JoSwinson #BrexitChaos #Prorogation #SupremeCourtJudgement #Proroguing… https://t.co/5oKYSnSXXu', 'Leaver from Rotherham earlier on @LBC says he expects delivering Brexit will a mess &amp; as rubbish for the area as wa… https://t.co/6yzKLsFRrZ', \"Delingpole: Miners' Leader Arthur Scargill Backs Boris on Brexit https://t.co/uD6ldDl8fT\", '@Mexico1978R @DaveHighway1 @Leon_SFrench @Luolah1 @eldis60 @SGTVance @funlovingNicole @pdp8l @SpartanEdgeX28… https://t.co/WkFDelyZtv', '@DavidLammy FBPE = Full Brexit Prompt Exit', 'The Full Brexit in Conversation: The Brexit Crisis and the Left Tickets, Thu 26 Sep 2019 at 18:30 | Eventbrite https://t.co/L3o8rMtzRS', 'This Parliament is a dead Parliament\\nIt has no moral right to sit on these green benches\\nThis Parliament is a disgr… https://t.co/oQzyOOSt8W', 'Calls for inquiry into claims Johnson backers benefit from no-deal Brexit https://t.co/C3BMocLPp2  enquiry please s… https://t.co/nC4eiQAIkD', 'Strange I looked at what IDL would be needed if no deal Brexit, France needs one ! Spain and Greece do not? Thanks France....', 'there is savage, and there is #Barnier who writes letters to Barclay #Brexit #nodealprep #cutting #savage… https://t.co/G8mgbhgCey', \"No-deal Brexit 'still risk to NHS and care sector' https://t.co/YoJvArM6S3\\n@willpowerentllc #WP #NewBROOKLYN #NyC… https://t.co/ZkQMfX6Pcl\", '@JoseRicaurteJ Even if we get a hard Brexit the longer term outlook is positive for the UK because it’s not carryin… https://t.co/B34nKlwgck', '@smarimc Hard to say, but Brexit is only one of a number of factors. Last year they blamed their poor performance o… https://t.co/Z1HaOqNnad', \"BBC News - Brexit uncertainty 'could lead to interest rate cut' https://t.co/4gk8it53Lo it looks like the working c… https://t.co/df6AnhIO1w\", '@Victori56708283 This might be the “Big Crunch”, or “the event horizon”, or “make or break”.\\n\\nIf so &amp; Boris wins, b… https://t.co/FVRgDTkzLZ', 'Johnson ‘whipping up riot fears to avoid Brexit extension’ https://t.co/nCYsiCe2XX', '@ford_saxon @JustinWelby Each have been reported to police &amp; safeguarding officers. And they are indeed down to the… https://t.co/9fBASaB3MS', 'Calls for inquiry into claims Johnson backers benefit from no-deal Brexit | Politics | The Guardian https://t.co/WHaImU6raJ', 'Oh Jeremy Cor.....oh wait 👇\\n\\n#Brexit #Labor #TimeForChange https://t.co/LArP1HuBUk', '@BrexitCentral Why does anybody believe what the Telegraph writes?\\nIt’s ok to want Brexit, but at least read a real… https://t.co/fqVNZnvvU6', '@PlainLincoln @Glaikitgit Jo seems more interested in stopping Corbyn than Brexit. https://t.co/YcgQk9s8G0', \"@Lindajenking1 I'd be right behind you, but the Establishment won't allow us to leave. They have tried to stop Brex… https://t.co/0E0G3mtYaE\", '@freedom4allyo @Dillymint @DavidLammy Let’s hear how there is no downside to Brexit.. well first of all, do you rea… https://t.co/S8Z02g2yOm', 'Michel Barnier: Boris Johnson’s behaviour has ‘limited the chance’ of a Brexit deal https://t.co/vRN6Ag1p1T', 'Calls for inquiry into claims Johnson backers benefit from no-deal Brexit https://t.co/ywv0ChmRzD', '@EuWalker4 @Swansea4Europe @Cardiff4EU @WalesForEurope Great singing. Hope some of you will sing the Remain Voice C… https://t.co/Xas4jmn2ar', '@Satchpiglet Brexit.', '@blaiklockBP Fantastic! Can you recommend a 4* all inclusive in Clapham?  If I can get turquoise seas, laid-back li… https://t.co/otvXRjDr4O', \"Someone appears to have missed the 'Brexit isn't about racism' memo. https://t.co/4F3tcGViTM\", \"@metpoliceuk why isn't wearing a tea shirt saying Bollocks to Brexit seen as incitement when a Brexit supporting po… https://t.co/LW9Sv0vVOK\", \"@coolfunnytshirt Brexit doesn't seems far 😅\", '@guilt_manager @TheHGSansostri @Femi_Sorry I think we would have a majority of Tory and Brexit MPs in the HOC if we… https://t.co/OPfR1vTiMp', '2 yrs old and still as valid as it was then: thank God we don’t give a toss about bloody experts!!\\n\\nNobel laureate… https://t.co/sdPZOUslvC', '@AlanHill @lewis_goodall With every remainer backlash we have come back and moved ever closer to Brexit with even m… https://t.co/rz9FCyf71H', '@carolecadwalla @brexit_sham Delete this @carolecadwalla you’re better than this.', '@WessexSaint @MarkSeddon1962 @afneil There is no democratic mandate for a no deal Brexit .... that’s the issue . Th… https://t.co/NHJnNyfZfK', 'Boris Johnson mired in scandal fronting up the \\'Get Brexit Done\\' - Conservatives \"INVEST in our NHS, Schools &amp; Poli… https://t.co/woLrxaatg8', \"@BorisJohnson You rejected Theresa May's deal twice out of three times.  There are Labour MPS that have tried to de… https://t.co/WUa4YkxaPg\", 'This is probably the most serious allegation of the many, many allegations Boris is facing. Financial gain from a n… https://t.co/wOoAMYhqAt', \"Jeremy Corbyn insists Labour's priority is stopping No Deal Brexit rather than a General Election… https://t.co/hWqHrHwlbi\", \"BREXIT, EU AND ISRAEL: WHAT'S THE CONNECTION? - Read it in this link - \\nhttps://t.co/DqfOsfNRdH https://t.co/QdAy3Ty38O\", 'BBC News - Brexit: What just happened in the UK Supreme Court? https://t.co/F8ywEykoZf', '@Leon_SFrench @DanielT5K @SGTVance @funlovingNicole @pdp8l @Luolah1 @SpartanEdgeX28 @JRH56536449 @Lescash1968… https://t.co/Z9lieQSK4Y', '@owenlmeredith @ToryReformGroup @ToryEvents_ @TorySocial @Conservatives @ConHome I have looked. I was a TRG member… https://t.co/hAuvTHrYVC', '@jeremycorbyn IDS has blood in his hands. Politics is so focused on Brexit we’re in danger of losing sight of the r… https://t.co/N6rwMFhJNd', '@DarrenPlymouth @Nigel_Farage When asked what do you want to be famous for - your choice was to divide Britain for… https://t.co/vHGgIsh4sP', '\"Scheer has a judgment problem \" is the understatement of the year. Scheer\\'s judgment is catastrophically poor. On.… https://t.co/SqgSokK5xT', \"a hard brexit has been deliberately orchestrated to benefit investors betting on pound dropping vs. no it hasn't\", 'Deliberately narrowing a chance of a deal. He’ll then blame the EU. #BorisTheDivider #BorisOut #brexit #gtto #JC4PM https://t.co/kkQP3P3Lpv', '@iMann_iFail @jeremycorbyn Theresa May had a majority government with a £1.5bn Bribe to the DUP and she failed even… https://t.co/Ql5ha2W8gN', 'Sovereignty: people, parliament, government - Briefings For Brexit https://t.co/L34XWoIhvH', \"@hilarybennmp @paulasherrif @bbclaurak @ @ @ . I'm just wasting my time here. The Remainiacs, KNOW it is they, who,… https://t.co/lwKwvM4POi\", 'If there is any truth to this it is a genuinely appalling abuse of office. Still can’t believe he would stoop this… https://t.co/JQSUPeR7g3', 'Supports my theory of what Boris has been planning all along.  Explains 100% why he will not make a deal with Nigel… https://t.co/siChyLJyvL', '@konallis @BBCPolitics using it much like Brexit, to fuel a cynical financial agenda or a political long game.', \"@TiceRichard Well, that's something I suppose. The Brexit Company Ltd don't give them the right to vote for the lea… https://t.co/sZzPe5p6c7\", '@freedom4allyo @Dillymint @DavidLammy I don’t think projecting problems the UK would face onto the EU is useful. Fo… https://t.co/EpXtxIBlnC', '@oflynnsocial @adamboultonSKY Nobody has thwarted it though. Article 50 was triggered respecting the leave vote, Pa… https://t.co/I8dVpXg6sX', 'I’m not sure London does racist bus tours around Clapham, Tower Hamlets &amp; Mornington Crescent, but give me someone… https://t.co/HCr5WUGfyb', '@Arron_banks @RoryStewartUK is still working in the best interests of his EU masters instead of working for 17,410,… https://t.co/R3gcu36jRx', 'After #brexit will David Lammy and Diane Abbott return to Africa ?', '@tobystyke74 @alastairdick I live in Canterbury and was in town today. Glad i didnt see that i  think i might have… https://t.co/ujj86Yw8eh', 'Michel Barnier: Boris Johnson’s behaviour has ‘limited the chance’ of a Brexit deal https://t.co/AqJR2txtpu', 'Whatever your priorities in #mentalhealth are, as a person who lives with mental ill health and distress or who wor… https://t.co/XOo60btay0', 'This is so right. The Remoaner establishment have taken a wrecking ball to everything in order to stop Brexit. They… https://t.co/HAeru0mjQf', '#MurphyBounce\\n\\nThese Opinion polls are mad, they never seem to add up. If Tory/Brexit are -2 and Labour/LD  are +5,… https://t.co/NSkosk06ny', \"@StuckSimply @rattlecans @SKeenan39088780 I was also in the majority for Brexit. That's independence.\", 'Brow beating people into submission. Pure brainwashing. Getting the unaware to think that #brexit (no deal too!) ha… https://t.co/F9K4kgrJ7I', 'For the first time since Thatcher; there’s a real sense that the Establishment is with Labour. For common sense men… https://t.co/0ZbZ2CR93r', \"@slimslimwino @gavinesler I'm glad you're onto economics. Must mean you've accepted the more important sovereignty… https://t.co/KUi4CUg66P\", '@JudeaPride @NickWil78651033 @britainelects @OpiniumResearch Because there was a GE afterwards and the public gave… https://t.co/jPEGHhBs7Q', '@CountofDown @DnellStephen @anglingking @domjoly @afneil According to YOU. Not according to the law. Not according… https://t.co/gpaTEpJWbR', \"@taxfraudhunter @Foy46 @AmateyDoku @Carl_Baron @Conservatives You're preaching to the converted. I understand all t… https://t.co/jR1xgZexWW\", 'I visited it. When I looked up how brexit would affect my travel insurance. I was told to call my travel insurance… https://t.co/BK0rrav8rS', '@RemainerTony @gwentpolice Stop twisting things to suit your political agenda. You know as well as anyone else once… https://t.co/KPq8n8NnVa', '@BBCNews @BBCPolitics The companies who will benefit from a no deal brexit. https://t.co/8OU2AnD32f', \"@RockySingh @SDD44626696 I don't have to deal with the repercussions of brexit like you do - but at the same time f… https://t.co/H4D5UTmpu1\", '@fartinatrance @Russell__M @AyoCaesar @blaiklockBP research do you mean Leave Propoganda, maybe you should stop lis… https://t.co/RI3I0Y9lAT', 'BUSKA INTERVIEWS ANN WIDDECOMBE ALICE GRANT NIGEL FARAGE BREXIT PARTY CONFERENCE 27/09/2019 watch the full video he… https://t.co/rqM3MaBQKf', 'Billionaire’s And Millionaire Tori member’s Government And Private people, have invested a lot of money,spectators,… https://t.co/qoujsKcHeu', '@GanwarShehri @DVATW I fear we are at a crossroads. If the PM can survive and deliver a No Deal Brexit, we could be… https://t.co/dmNBZpE1Wo', '@BorisJohnson No Boris we need to have a GE once you’ve delayed Brexit and vote your right wing, Tory arse out of office!', '@MrMattGibbs All as bad as each other. Just sort out Brexit and get it over with', '@UmaniRestiamo @britainelects @OpiniumResearch Look mate, if we can’t say humbug, you definitely can’t say bollocks… https://t.co/FUsw9myDKr', 'Michel Barnier: Boris Johnson’s behaviour has ‘limited the chance’ of a Brexit deal https://t.co/YEUta1PwmV Deliberately so of course', '@Takru5 @Peston It is curious if the EU is powerless to ignore the acts of a dictator, should a member state head i… https://t.co/Lzyb903tYM', 'Failing on Brexit will rip the fabric of Britain apart FOREVER, says Sajid Javid https://t.co/vovtUkFIaZ', '@BlizzardWatch This is exactly how brexit will go down', \"It'll definitely be thanks to all those that copied in @metpolice. Heroes one and all.\\n\\nhttps://t.co/d4IiQLkUh5\", '@leigh_lou @martin_oxley @brexit_sham @BestForBritain “Business woman” with no discernible businesses', '@irenejuliawise A neighbour in Lewes had half a brick with traitor written on it thrown through his window very ear… https://t.co/PA7eIAl8V8', '@wjrelliott Only if he does a deal with Brexit', \"Brexit: it's all about immigration - about stopping Muslims, Africans, Syrians, Iraqis. FoM is fine, it's just the… https://t.co/gLzxir9qrz\", '@BorisJohnson No, stop repeating that mantra. The majority no longer want Brexit in any form and I no one apart fro… https://t.co/sxw0Ichwp3', '@WADEConstruct @LaweTerri @MichelBarnier @simoncoveney @IrelandRepBru I don‘t really consider it relevant who puts… https://t.co/jKEac8dGjR', \"DIGADA1 JCookUK ChrisJC12002 PhebeOhYes What shit is this? I guess you're a paid Brexit Party bot. South Africa? India? Or Russia?\", '#BORIS INCITING NATIONAL VIOLENCE IS TO BE SENTENCED TO  ??Sunderland Brexit supporter jailed for inciting racial h… https://t.co/ZykyAwWfXx', 'When Brexit is finally done and dusted I can’t wait to see the look on this smug bastards face 😊#SmugTwat https://t.co/XF8qkBy7Y5', '@NFUtweets Isn’t believe the EU set the tariffs,  the World Trade Organisation do and it is global not European unl… https://t.co/1O4C62MZOg', 'Our Brexit policies are well known.\\n\\nWe are the party of Remain. We support a People’s Vote: \\n     Remain 🆚 a reali… https://t.co/cXYO9Oqxex', 'Brexit was voted for by the British people in order to give us Parliamentary sovereignty and to grant power to our… https://t.co/O3a25MGNrB', '#DATALOVE...🙃just want to clarify that last tweet;\\n🤓No alcohol was consumed in the tweetin of this tweet!\\n🇨🇦#mcga!!… https://t.co/AnELE6fKpk', '@brexit_clock @EUVoteLeave23rd Get the union flag flying all over our sovereign land now ready for independence day 31/10/2019', '@ZiggyA91 @w41gy @Georgeoftheday1 @britainelects @OpiniumResearch Remember no self respecting liberal would ever co… https://t.co/B20LOM6bQR', \"@HackedOffHugh If Johnson fails to deliver Brexit for his Russian oligarchs on 31/10, he's been told he will be found dead in a ditch.\", '@MPIainDS “Work is the best route out of poverty”\\nSo why, despite a nursing shortage worsening with #Brexit pressur… https://t.co/Mn0Rn2G0kw', 'I have picked up over 600 followers in the last week.  If I have not followed you back (unless you are a pro Brexit… https://t.co/tjhNgbD6rc', '@bbcnickrobinson National Unity?\\nAbsolutely no chance.\\n\\nVote @brexitparty_uk ✅🇬🇧🏴\\U000e0067\\U000e0062\\U000e0065\\U000e006e\\U000e0067\\U000e007f\\n\\n#brexit #eu #uk… https://t.co/XhK05UbZsE', 'just been watching Lord of the Rings and realised how much of this false sentiment about Middle Earth has affected… https://t.co/LaCpisox1x', '@DavidLammy It won’t work for me. I’ve already left the Labour fold because of your equivocation over Brexit.\\nOh, a… https://t.co/A2f65ZwJvS', '@BeaumontDMD It\\'s just like the Abba song, \"The women take it all.\"', '@stephentall @robblackie Stop the Mess - Stop Brexit\\nEnd the Mess - Stop Brexit\\nYou can stop the mess - by stopping Brexit', 'British chocolate exports doubled from £361.8m in 2008 to £723.8m in 2018, making chocolate UK’s 2nd largest F &amp; D… https://t.co/KJgUGJr3Ti', '\"I have to go back to Africa to see what a stable govt looks like\". @dalisochaponda\\'s take on #brexit. Best laugh o… https://t.co/wP7OFs7dcp', '@nchamp62 Well then, stop trying to brainwash the kids...\\n\\nGet over your hatred of Brexit and Brexiters, and those… https://t.co/eRIk2xCv4z', '@BorisJohnson Big Boy Brexit Boris', '@Independent If brexit takes place, I &amp; perhaps a few more will move to Scotland. A Republic of Scotland within the… https://t.co/DCwZKjJ9lk', '@MAGASHAMAN @TrumpMAGA_50 @usacy1 @CaliNeedsHelp @dyro874 @MichaelDadiego @McUkes @Alexand34723258 @wigone1… https://t.co/D5WYB5r1KJ', '#UK - Calls for inquiry into claims #Johnson backers benefit from no-deal #Brexit. \\nhttps://t.co/ojAiLaBpfY', '@MPIainDS We just want Brexit done Iain. \\nI’m looking forward to the news being about something other than Brexit… https://t.co/mLZEFKQvJ7', \"Remainer MP's (you know who you are), while I understand it's upsetting to receive threats of any sort....you have… https://t.co/kfOpQrGv4g\", '@BorisJohnson @Catherineseye The people voted for Brexit Boris. Your job is to deliver.', 'Petition: Release all No Deal Brexit planning documents to Parliament and the people. https://t.co/KKDPvCcsto', '@tfoale Amused that he clearly is able to differentiate between England and the other nations of the UK...\\n\\nEven wi… https://t.co/uKOzEIOpfd', 'Brexit: Boris Johnson’s government could face no confidence vote in coming days, SNP warn - The Independent https://t.co/GcimZtsbHt', '@faisalislam @brexit_sham Phill 😂👌😗 https://t.co/NnpvwhO9Vp', '@BrunoAm05317727 Brexit plus conservatives equals win, win, win for brexit. Come on get together you know it makes sense.', '@Frances_Coppola @DavidHenigUK Johnson’s own sister reported it. Odey has been filmed setting out his role. It’s pu… https://t.co/DeNbiP2L9v', '#stevebray #manchester #london #ConservativePartyConference #brexit bray up to his old tricks again seen on route t… https://t.co/lmOMd6PaXr', \"@Meadowuk They don't get their payoff unless they stop Brexit. That simple.\", '@ciabaudo Bit worrying that johnson has been using kids https://t.co/kBTbB4fnWC', 'Anyone else confused that the Brexit Party is a front organisation for the Argentinians.🇦🇷🇦🇷🇦🇷🇦🇷', '@t0mb16 The side of the bus sign writes itself this time \"Brexit\\'s tearing us apart, let\\'s forget it &amp; move on\"', \"Brexit means fucking this country up so it takes decades to recover in order that Boris's rich friends become even… https://t.co/cLaR5nlwbM\", '@GordonFThomas There\\'s one other option.  He brings back the WA, maybe tweaked, maybe not,  and says \"If you want b… https://t.co/VqGvB1BSDe', '@blaiklockBP Yes!  Bring on Brexit and we can Make Britain White Again -_-', \"@BorisJohnson How much do you get paid for this? Are the Russian behind it? \\nWhat you doing after Brexit?\\nwhat's yo… https://t.co/JilKRWpvFL\", 'A zombie government and a zombie opposition, both probably financed in different ways by habitual criminal putin.… https://t.co/knJm82kPDq', 'Cabinet secretary urged to look into conflict of interest fears raised by Philip Hammond and Rachel Johnson. https://t.co/VrX24Yh2ik', '@BorisJohnson Is that Jennifer Arcuri on your arm? And if not, how much of the taxpayer’s money is being funnelled… https://t.co/uOAQHXRil6', '@JAGrant @arusbridger Jan2016 was before voters were encouraged to engage with th Ref on th express promise that th… https://t.co/RcPJkWZGk1', '@Hawk_moon269 @ponyaccess @Evangel17614948 @SeamusFaeAlba @mear_an @NicolaSturgeon @BernardineEvari You really need… https://t.co/ej3M4EvrGp', '@joswinson @EmilyThornberry Please please please support Jeremy to sort this Brexit crap out', '@JoeBiden If you are able to sort Brexit, Joe, even I’d try to find a way to vote for you.', '@jetfury Brexit Albion', '@CliveWismayer End uncertainty - stop Brexit.', 'Dumb gammon boomers. I’m sorry  I don’t have that self control it would 50/50 bite lip/Put him in hospital. Throw c… https://t.co/yfnoDvQ9UZ', '@SedgewickDavid @emilyhewertson Go on then. Which Labour policies do you disagree with and what do you hope to gain from brexit?', \"@DavidLinden @Channel4News @STVNews @itvnews @theSNP @BorisJohnson Think it's time that the SNP realised that they don't rule over the UK\", 'The EU is a voluntary to join but there is no way u can leave  on your own terms . The governments that have given… https://t.co/6nJaMfHzYn', \"@Conservatives \\n\\n'The Poundshop Brexit Party'\", 'Please report this Brexit Company Racist and get her deplatformed.\\n\\nHello @TwitterSafety 👇👇👇 https://t.co/cYqAcCy9y2', '@No1Gillygolfer @FlagBlyth @Cbh57 @smartysue @rosinapaintolin @CarolC35237810 Approximately, 6,000-7000 women will… https://t.co/vx56Cx0ued', '@SomeCake1 @Chetkayable @iedsx @BorisJohnson Haha\\nSays someone calling for Britain a democracy to be crushed, in or… https://t.co/3L5EULFjGy', '#brexit questions https://t.co/zfc5ycHKcZ', 'Brexit Party Tour - Feisty Ann Widdecombe Attacks Enemy Territory -  LON... https://t.co/tb6YLPCfsH via @YouTube', 'Tells me all I need to know about the Brexit party https://t.co/UGY4vSybKl', '@ApacReach_James @Rebecca63564223 @Jacks1Cj1968 @zombie_nun Wrong!  His answer to the question was Humbug.  He then… https://t.co/kJWS4Wbqwg', '“Currently, £8,274,350,000 (£8.3 billion) of aggregate short positions has been taken out by hedge funds connected… https://t.co/eUhnWqDalL', 'Wild IMPORTANT *THREAD* up &amp; down. \\nJavanka in Italy. Barr in Brussels (#Brexit tampering?) then Italy. Pompeo also… https://t.co/W5Wcu6BeGU', 'Slowly detoxing from Brexit...its taken over my life far too much. Arrived in Bayonne en route to SJPDP. I love 🇪🇺… https://t.co/nfwN6jZ4oF', 'Hope labour followers will join this campaign. We urgently need to prevent a labour sliding into a Corbynite civil… https://t.co/dfGTTaG6H5', '@WCullmac Russophile Cummings is trying to please the boss man of where he spent years.. Russia.. Putin is just LOV… https://t.co/7PN9DcR8Ih', '@PicturedImage brexit means britain gets raped by the US', \"@SarahJ_Says TBH I think a lot of people simply aren't interested, they think Brexit will happen and that's it. I'v… https://t.co/226OdzDiWm\", 'Hope so. But chances of a Corbynite leader are slim in my view. Especially as when push comes to shove the Left kee… https://t.co/jlLPfglHgx', '@brexit_politics And, did the EU prevent UK from exporting £345.1bn to non-EU? Did they limit it?  No.\\n\\nBut apparen… https://t.co/1Hm0vkoPz5', \"@BorisJohnson @nadhimzahawi What will you tell the people if we have a no deal Brexit when they realize it's the st… https://t.co/AeSB1nhOGW\", '@justin_ryland @AmusingName0 @sajidjavid @RuthDavidsonMSP @afneil Laura has repeated government opinion AS FACT.  N… https://t.co/4qrEVvIy2Y', 'Sprung. Gove’s claims about “ready for Brexit” were fictitious &amp; exposed as such in govt documents https://t.co/zYgMNFfzuU', '@jazzaoxon @Iancoll94354676 Ever notice there seems to be more brexit backing MPs than necks. Bridgen and Francois share one between them.', '@Action4Life_ @Piers_Corbyn Come on we all know if you want to know about it ask the expert Greta Thunberg or her s… https://t.co/1aptCReZY1', 'Surely this is common knowledge? \\n\\nThe whole purpose of Brexit is for the very rich to cash-in on the destruction o… https://t.co/VX2Nz6tS2l', \"@lukkylemec I'm sorry but for me life is not bigger than Brexit. I likely won't be around in 20 years time, but my… https://t.co/gm04Ac7nWa\", \"We must leave the EU on 31st October....If we don't the consequences may be terrible 🇬🇧  https://t.co/b7InvutrY5\"]\n"
          ],
          "name": "stdout"
        }
      ]
    },
    {
      "cell_type": "code",
      "metadata": {
        "id": "03M6gOZzc7rb",
        "colab_type": "code",
        "colab": {
          "base_uri": "https://localhost:8080/",
          "height": 51
        },
        "outputId": "7b5fddba-07fe-4f9e-9ff0-3bfcdc5cbbaf"
      },
      "source": [
        "import numpy as np \n",
        "import pandas as pd \n",
        "import re  \n",
        "import nltk \n",
        "nltk.download('stopwords')  \n",
        "from nltk.corpus import stopwords \n"
      ],
      "execution_count": 25,
      "outputs": [
        {
          "output_type": "stream",
          "text": [
            "[nltk_data] Downloading package stopwords to /root/nltk_data...\n",
            "[nltk_data]   Unzipping corpora/stopwords.zip.\n"
          ],
          "name": "stdout"
        }
      ]
    },
    {
      "cell_type": "code",
      "metadata": {
        "id": "LIIrJYhVdD9y",
        "colab_type": "code",
        "colab": {}
      },
      "source": [
        "tweets = pd.read_csv(\"https://raw.githubusercontent.com/kolaveridi/kaggle-Twitter-US-Airline-Sentiment-/master/Tweets.csv\")\n"
      ],
      "execution_count": 0,
      "outputs": []
    },
    {
      "cell_type": "code",
      "metadata": {
        "id": "yUFttnmRdTol",
        "colab_type": "code",
        "colab": {}
      },
      "source": [
        "X = tweets.iloc[:, 10].values  \n",
        "y = tweets.iloc[:, 1].values\n",
        "\n",
        "\n",
        "processed_tweets = []\n",
        " \n",
        "for tweet in range(0, len(X)):  \n",
        "    # Remove all the special characters\n",
        "    processed_tweet = re.sub(r'\\W', ' ', str(X[tweet]))\n",
        " \n",
        "    # remove all single characters\n",
        "    processed_tweet = re.sub(r'\\s+[a-zA-Z]\\s+', ' ', processed_tweet)\n",
        " \n",
        "    # Remove single characters from the start\n",
        "    processed_tweet = re.sub(r'\\^[a-zA-Z]\\s+', ' ', processed_tweet) \n",
        " \n",
        "    # Substituting multiple spaces with single space\n",
        "    processed_tweet= re.sub(r'\\s+', ' ', processed_tweet, flags=re.I)\n",
        " \n",
        "    # Removing prefixed 'b'\n",
        "    processed_tweet = re.sub(r'^b\\s+', '', processed_tweet)\n",
        " \n",
        "    # Converting to Lowercase\n",
        "    processed_tweet = processed_tweet.lower()\n",
        " \n",
        "    processed_tweets.append(processed_tweet)\n"
      ],
      "execution_count": 0,
      "outputs": []
    },
    {
      "cell_type": "code",
      "metadata": {
        "id": "fvvzPXC7daw9",
        "colab_type": "code",
        "colab": {}
      },
      "source": [
        "from sklearn.feature_extraction.text import TfidfVectorizer  \n",
        "tfidfconverter = TfidfVectorizer(max_features=2000, min_df=5, max_df=0.7, stop_words=stopwords.words('english'))  \n",
        "X = tfidfconverter.fit_transform(processed_tweets).toarray()\n"
      ],
      "execution_count": 0,
      "outputs": []
    },
    {
      "cell_type": "code",
      "metadata": {
        "id": "_yReZpg4dftB",
        "colab_type": "code",
        "colab": {
          "base_uri": "https://localhost:8080/",
          "height": 136
        },
        "outputId": "1ce63afe-b081-439f-d2b7-3022b3a14254"
      },
      "source": [
        "from sklearn.ensemble import RandomForestClassifier\n",
        "text_classifier = RandomForestClassifier(n_estimators=100, random_state=0)  \n",
        "text_classifier.fit(X, y)\n"
      ],
      "execution_count": 29,
      "outputs": [
        {
          "output_type": "execute_result",
          "data": {
            "text/plain": [
              "RandomForestClassifier(bootstrap=True, class_weight=None, criterion='gini',\n",
              "                       max_depth=None, max_features='auto', max_leaf_nodes=None,\n",
              "                       min_impurity_decrease=0.0, min_impurity_split=None,\n",
              "                       min_samples_leaf=1, min_samples_split=2,\n",
              "                       min_weight_fraction_leaf=0.0, n_estimators=100,\n",
              "                       n_jobs=None, oob_score=False, random_state=0, verbose=0,\n",
              "                       warm_start=False)"
            ]
          },
          "metadata": {
            "tags": []
          },
          "execution_count": 29
        }
      ]
    },
    {
      "cell_type": "code",
      "metadata": {
        "id": "PiH3lhymdsYI",
        "colab_type": "code",
        "colab": {
          "base_uri": "https://localhost:8080/",
          "height": 1000
        },
        "outputId": "559f0773-5493-4271-fe75-43a0148b664c"
      },
      "source": [
        "for tweet in all_tweets:\n",
        "    # Remove all the special characters\n",
        "    processed_tweet = re.sub(r'\\W', ' ', tweet)\n",
        " \n",
        "    # remove all single characters\n",
        "    processed_tweet = re.sub(r'\\s+[a-zA-Z]\\s+', ' ', processed_tweet)\n",
        " \n",
        "    # Remove single characters from the start\n",
        "    processed_tweet = re.sub(r'\\^[a-zA-Z]\\s+', ' ', processed_tweet) \n",
        " \n",
        "    # Substituting multiple spaces with single space\n",
        "    processed_tweet= re.sub(r'\\s+', ' ', processed_tweet, flags=re.I)\n",
        " \n",
        "    # Removing prefixed 'b'\n",
        "    processed_tweet = re.sub(r'^b\\s+', '', processed_tweet)\n",
        " \n",
        "    # Converting to Lowercase\n",
        "    processed_tweet = processed_tweet.lower()\n",
        " \n",
        "    sentiment = text_classifier.predict(tfidfconverter.transform([ processed_tweet]).toarray())\n",
        "    print(processed_tweet ,\":\", sentiment)\n"
      ],
      "execution_count": 30,
      "outputs": [
        {
          "output_type": "stream",
          "text": [
            "martial law could be used to quash civil unrest in the event of no deal brexit inews https co vav5ypgjwk : ['neutral']\n",
            "couldn resist https co t4qr9n1buu brexit remain : ['neutral']\n",
            " thinkdefence how many synonyms for the word nothing would you like majority of people wanted brexit but only https co wiierbztfz : ['negative']\n",
            " mikeirons12 imho michael you re not wrong you can see from the that could only vote libdem amp m not na https co n97x1r5lll : ['neutral']\n",
            " ivisonj am embarrassed about him already scheer has questionable stances opinions more traffic lanes reduces https co rgqpmm2wzj : ['neutral']\n",
            " mpiainds you failed to build system that actually works let alons works for the many too busy picking your no https co i2lygfzzrw : ['negative']\n",
            " cinderfordash robexmainlamarf joannecoates9 yep that is the reality then you really will be stuck in the eu th https co xdvos17lvo : ['negative']\n",
            "great afternoon for the brexit party no sign of any labour or conservatives campaigning in rushmoor can imagine https co f60ppj1la2 : ['positive']\n",
            " iancornwell6 memcculloch borisjohnson conservatives uklabour conservatives have monopoly on affronting the https co ij3gxs0aoq : ['neutral']\n",
            "lovely vote swings here still too high vote for tories but lovely to see 5 point gain for labour and lib dem https co jqerz20kjg : ['negative']\n",
            " iaindale m pretty sure most people position on brexit has evolved since then iain to point this out is stat https co rvbdm0wy8v : ['negative']\n",
            "johnson obscene behaviour this week confirms the arrival of trumpian britain https co h2dqqrjmta via prospect_uk : ['neutral']\n",
            " ladydurrant borisjohnson back boris to get the job done and deliver for 17 4 million voters who were promised the https co htvi5jncas : ['negative']\n",
            "as have said previously m neutral on brexit but this is obscenely racist crap from blaiklockbp will drive many https co 3km8svjbkl : ['neutral']\n",
            " jmccawbermep brexit was referendum to leave the eu deal not to replace the eu deal with another eu deal  : ['negative']\n",
            "just in case you were in any doubt https co wthpwt6lo3 : ['neutral']\n",
            " backnsallz ub5simon edwardbedivere borisjohnson suppose this nobel prize winning economist is just moron wh https co dttkkmqckt : ['neutral']\n",
            " borisjohnson crimeminister questions is the need to get brexit done for your hedge fund backers to short the pound and profit billions  : ['negative']\n",
            " borisjohnson we need to get rid of you stop brexit amp focus on the nhs policing amp school you amp your party could https co nluoa0goty : ['negative']\n",
            " mpiainds ain going to be any jobs after your disaster capitalist brexit  : ['negative']\n",
            " eldis60 danielt5k sgtvance funlovingnicole pdp8l luolah1 spartanedgex28 jrh56536449 lescash1968 https co 5oc9fnlrwj : ['neutral']\n",
            " manthorp think it ll be tory brexit party coalition because m pessimist with fondness for dystopian futures  : ['negative']\n",
            " guilt_manager davidlammy jeremycorbyn johnmcdonnellmp joswinson harrietharman ianblackfordmp lordrennard https co jlyyh9r6x5 : ['neutral']\n",
            " piersmorgan instead all the brexit and how crap the uk parliament is tweets tweet about your friends new album https co zgi7vw2efu : ['neutral']\n",
            " theeconomist dwallacewells it having hard enough time surviving brexit  : ['negative']\n",
            "bob moran on remainalliance joswinson brexitchaos prorogation supremecourtjudgement proroguing https co 5okysnsxxu : ['neutral']\n",
            "leaver from rotherham earlier on lbc says he expects delivering brexit will mess amp as rubbish for the area as wa https co 6yzklsfrrz : ['neutral']\n",
            "delingpole miners leader arthur scargill backs boris on brexit https co ud6lddl8ft : ['neutral']\n",
            " mexico1978r davehighway1 leon_sfrench luolah1 eldis60 sgtvance funlovingnicole pdp8l spartanedgex28 https co wkfdelyztv : ['neutral']\n",
            " davidlammy fbpe full brexit prompt exit : ['negative']\n",
            "the full brexit in conversation the brexit crisis and the left tickets thu 26 sep 2019 at 18 30 eventbrite https co l3o8rmtzrs : ['neutral']\n",
            "this parliament is dead parliament it has no moral right to sit on these green benches this parliament is disgr https co oqzyoost8w : ['neutral']\n",
            "calls for inquiry into claims johnson backers benefit from no deal brexit https co c3bmoclpp2 enquiry please https co nc4eiqaikd : ['neutral']\n",
            "strange looked at what idl would be needed if no deal brexit france needs one spain and greece do not thanks france  : ['positive']\n",
            "there is savage and there is barnier who writes letters to barclay brexit nodealprep cutting savage https co g8mgbhgcey : ['neutral']\n",
            "no deal brexit still risk to nhs and care sector https co yojvarm6s3 willpowerentllc wp newbrooklyn nyc https co zkqmfx6pcl : ['negative']\n",
            " josericaurtej even if we get hard brexit the longer term outlook is positive for the uk because it not carryin https co b34nklwgck : ['negative']\n",
            " smarimc hard to say but brexit is only one of number of factors last year they blamed their poor performance https co z1haoqnnad : ['negative']\n",
            "bbc news brexit uncertainty could lead to interest rate cut https co 4gk8it53lo it looks like the working https co df6anhio1w : ['neutral']\n",
            " victori56708283 this might be the big crunch or the event horizon or make or break if so amp boris wins https co fvrgdtkzlz : ['neutral']\n",
            "johnson whipping up riot fears to avoid brexit extension https co ncysice2xx : ['neutral']\n",
            " ford_saxon justinwelby each have been reported to police amp safeguarding officers and they are indeed down to the https co 9fbasab3ms : ['neutral']\n",
            "calls for inquiry into claims johnson backers benefit from no deal brexit politics the guardian https co whaimu6raj : ['neutral']\n",
            "oh jeremy cor oh wait brexit labor timeforchange https co larp1hubuk : ['neutral']\n",
            " brexitcentral why does anybody believe what the telegraph writes it ok to want brexit but at least read real https co fqvnznvvu6 : ['neutral']\n",
            " plainlincoln glaikitgit jo seems more interested in stopping corbyn than brexit https co ycgqk9s8g0 : ['neutral']\n",
            " lindajenking1 d be right behind you but the establishment won allow us to leave they have tried to stop brex https co 0e0g3mtyae : ['negative']\n",
            " freedom4allyo dillymint davidlammy let hear how there is no downside to brexit well first of all do you rea https co s8z02g2yom : ['neutral']\n",
            "michel barnier boris johnson behaviour has limited the chance of brexit deal https co vrn6ag1p1t : ['neutral']\n",
            "calls for inquiry into claims johnson backers benefit from no deal brexit https co ywv0chmrzd : ['neutral']\n",
            " euwalker4 swansea4europe cardiff4eu walesforeurope great singing hope some of you will sing the remain voice https co xas4jmn2ar : ['positive']\n",
            " satchpiglet brexit  : ['negative']\n",
            " blaiklockbp fantastic can you recommend 4 all inclusive in clapham if can get turquoise seas laid back li https co otvxrjdr4o : ['neutral']\n",
            "someone appears to have missed the brexit isn about racism memo https co 4f3tcgvitm : ['neutral']\n",
            " metpoliceuk why isn wearing tea shirt saying bollocks to brexit seen as incitement when brexit supporting po https co lw9sv0vvok : ['neutral']\n",
            " coolfunnytshirt brexit doesn seems far  : ['negative']\n",
            " guilt_manager thehgsansostri femi_sorry think we would have majority of tory and brexit mps in the hoc if we https co opfr1vtimp : ['neutral']\n",
            "2 yrs old and still as valid as it was then thank god we don give toss about bloody experts nobel laureate https co sdpzouslvc : ['positive']\n",
            " alanhill lewis_goodall with every remainer backlash we have come back and moved ever closer to brexit with even https co rz9fcyf71h : ['neutral']\n",
            " carolecadwalla brexit_sham delete this carolecadwalla you re better than this  : ['negative']\n",
            " wessexsaint markseddon1962 afneil there is no democratic mandate for no deal brexit that the issue th https co nhjnnyfzfk : ['neutral']\n",
            "boris johnson mired in scandal fronting up the get brexit done conservatives invest in our nhs schools amp poli https co wolrxaatg8 : ['neutral']\n",
            " borisjohnson you rejected theresa may deal twice out of three times there are labour mps that have tried to de https co wua4ykxapg : ['negative']\n",
            "this is probably the most serious allegation of the many many allegations boris is facing financial gain from n https co wooamyhqat : ['neutral']\n",
            "jeremy corbyn insists labour priority is stopping no deal brexit rather than general election https co hwqhrhwlbi : ['neutral']\n",
            "brexit eu and israel what the connection read it in this link https co dqfosfnrdh https co qday3ty38o : ['neutral']\n",
            "bbc news brexit what just happened in the uk supreme court https co f8yweykozf : ['neutral']\n",
            " leon_sfrench danielt5k sgtvance funlovingnicole pdp8l luolah1 spartanedgex28 jrh56536449 lescash1968 https co z9lieqsk4y : ['neutral']\n",
            " owenlmeredith toryreformgroup toryevents_ torysocial conservatives conhome have looked was trg member https co hauvthryvc : ['neutral']\n",
            " jeremycorbyn ids has blood in his hands politics is so focused on brexit we re in danger of losing sight of the https co n6rwmfhjnd : ['neutral']\n",
            " darrenplymouth nigel_farage when asked what do you want to be famous for your choice was to divide britain for https co vhggish4sp : ['neutral']\n",
            " scheer has judgment problem is the understatement of the year scheer judgment is catastrophically poor on https co sqgsokk5xt : ['neutral']\n",
            "a hard brexit has been deliberately orchestrated to benefit investors betting on pound dropping vs no it hasn t : ['negative']\n",
            "deliberately narrowing chance of deal he ll then blame the eu boristhedivider borisout brexit gtto jc4pm https co kkqp3p3lpv : ['neutral']\n",
            " imann_ifail jeremycorbyn theresa may had majority government with 1 5bn bribe to the dup and she failed even https co ql5ha2w8gn : ['neutral']\n",
            "sovereignty people parliament government briefings for brexit https co l34xwoihvh : ['neutral']\n",
            " hilarybennmp paulasherrif bbclaurak m just wasting my time here the remainiacs know it is they who https co lwkwvm4poi : ['neutral']\n",
            "if there is any truth to this it is genuinely appalling abuse of office still can believe he would stoop this https co jqsuper7g3 : ['negative']\n",
            "supports my theory of what boris has been planning all along explains 100 why he will not make deal with nigel https co sichyljyvl : ['neutral']\n",
            " konallis bbcpolitics using it much like brexit to fuel cynical financial agenda or political long game  : ['negative']\n",
            " ticerichard well that something suppose the brexit company ltd don give them the right to vote for the lea https co szzpe5p6c7 : ['neutral']\n",
            " freedom4allyo dillymint davidlammy don think projecting problems the uk would face onto the eu is useful fo https co epxtxiblnc : ['negative']\n",
            " oflynnsocial adamboultonsky nobody has thwarted it though article 50 was triggered respecting the leave vote pa https co i8dvpxg6sx : ['neutral']\n",
            "i not sure london does racist bus tours around clapham tower hamlets amp mornington crescent but give me someone https co hcr5wugfyb : ['negative']\n",
            " arron_banks rorystewartuk is still working in the best interests of his eu masters instead of working for 17 410 https co r3gcu36jrx : ['negative']\n",
            "after brexit will david lammy and diane abbott return to africa  : ['negative']\n",
            " tobystyke74 alastairdick live in canterbury and was in town today glad didnt see that think might have https co ujj86yw8eh : ['neutral']\n",
            "michel barnier boris johnson behaviour has limited the chance of brexit deal https co aqjr2txtpu : ['neutral']\n",
            "whatever your priorities in mentalhealth are as person who lives with mental ill health and distress or who wor https co xoo60btay0 : ['neutral']\n",
            "this is so right the remoaner establishment have taken wrecking ball to everything in order to stop brexit they https co haeru0mjqf : ['negative']\n",
            " murphybounce these opinion polls are mad they never seem to add up if tory brexit are 2 and labour ld are 5 https co nskosk06ny : ['neutral']\n",
            " stucksimply rattlecans skeenan39088780 was also in the majority for brexit that independence  : ['negative']\n",
            "brow beating people into submission pure brainwashing getting the unaware to think that brexit no deal too ha https co f9k4kgrj7i : ['neutral']\n",
            "for the first time since thatcher there a real sense that the establishment is with labour for common sense men https co 0zbz2cr93r : ['negative']\n",
            " slimslimwino gavinesler m glad you re onto economics must mean you ve accepted the more important sovereignty https co kui4cug66p : ['neutral']\n",
            " judeapride nickwil78651033 britainelects opiniumresearch because there was ge afterwards and the public gave https co jpeghhbs7q : ['neutral']\n",
            " countofdown dnellstephen anglingking domjoly afneil according to you not according to the law not according https co gpatepjwbr : ['negative']\n",
            " taxfraudhunter foy46 amateydoku carl_baron conservatives you re preaching to the converted understand all https co jr1xgzexww : ['neutral']\n",
            "i visited it when looked up how brexit would affect my travel insurance was told to call my travel insurance https co bk0rrav8rs : ['negative']\n",
            " remainertony gwentpolice stop twisting things to suit your political agenda you know as well as anyone else once https co kpq8n8nnva : ['negative']\n",
            " bbcnews bbcpolitics the companies who will benefit from no deal brexit https co 8ou2and32f : ['neutral']\n",
            " rockysingh sdd44626696 don have to deal with the repercussions of brexit like you do but at the same time https co h4d5utmpu1 : ['neutral']\n",
            " fartinatrance russell__m ayocaesar blaiklockbp research do you mean leave propoganda maybe you should stop lis https co ri3i0y9lat : ['neutral']\n",
            "buska interviews ann widdecombe alice grant nigel farage brexit party conference 27 09 2019 watch the full video he https co rqm3mabqkf : ['neutral']\n",
            "billionaire and millionaire tori member government and private people have invested lot of money spectators https co qoujskcheu : ['negative']\n",
            " ganwarshehri dvatw fear we are at crossroads if the pm can survive and deliver no deal brexit we could be https co dmnbzpe1wo : ['neutral']\n",
            " borisjohnson no boris we need to have ge once you ve delayed brexit and vote your right wing tory arse out of office  : ['negative']\n",
            " mrmattgibbs all as bad as each other just sort out brexit and get it over with : ['negative']\n",
            " umanirestiamo britainelects opiniumresearch look mate if we can say humbug you definitely can say bollocks https co fusw9mydkr : ['neutral']\n",
            "michel barnier boris johnson behaviour has limited the chance of brexit deal https co yeuta1pwmv deliberately so of course : ['neutral']\n",
            " takru5 peston it is curious if the eu is powerless to ignore the acts of dictator should member state head https co lzyb903tym : ['neutral']\n",
            "failing on brexit will rip the fabric of britain apart forever says sajid javid https co vovtukfiaz : ['neutral']\n",
            " blizzardwatch this is exactly how brexit will go down : ['negative']\n",
            "it ll definitely be thanks to all those that copied in metpolice heroes one and all https co d4iiqlkuh5 : ['positive']\n",
            " leigh_lou martin_oxley brexit_sham bestforbritain business woman with no discernible businesses : ['negative']\n",
            " irenejuliawise neighbour in lewes had half brick with traitor written on it thrown through his window very ear https co pa7eial8v8 : ['neutral']\n",
            " wjrelliott only if he does deal with brexit : ['negative']\n",
            "brexit it all about immigration about stopping muslims africans syrians iraqis fom is fine it just the https co glzxir9qrz : ['neutral']\n",
            " borisjohnson no stop repeating that mantra the majority no longer want brexit in any form and no one apart fro https co sxw0ichwp3 : ['negative']\n",
            " wadeconstruct laweterri michelbarnier simoncoveney irelandrepbru don really consider it relevant who puts https co jkeac8dgjr : ['neutral']\n",
            "digada1 jcookuk chrisjc12002 phebeohyes what shit is this guess you re paid brexit party bot south africa india or russia  : ['negative']\n",
            " boris inciting national violence is to be sentenced to sunderland brexit supporter jailed for inciting racial https co zykyawwfxx : ['neutral']\n",
            "when brexit is finally done and dusted can wait to see the look on this smug bastards face smugtwat https co xf8qkby7y5 : ['neutral']\n",
            " nfutweets isn believe the eu set the tariffs the world trade organisation do and it is global not european unl https co 1o4c62mzog : ['neutral']\n",
            "our brexit policies are well known we are the party of remain we support people vote remain reali https co cxyo9oqxex : ['negative']\n",
            "brexit was voted for by the british people in order to give us parliamentary sovereignty and to grant power to our https co o3a25mgnrb : ['negative']\n",
            " datalove just want to clarify that last tweet no alcohol was consumed in the tweetin of this tweet mcga https co anele6fkpk : ['neutral']\n",
            " brexit_clock euvoteleave23rd get the union flag flying all over our sovereign land now ready for independence day 31 10 2019 : ['negative']\n",
            " ziggya91 w41gy georgeoftheday1 britainelects opiniumresearch remember no self respecting liberal would ever co https co b20lom6bqr : ['neutral']\n",
            " hackedoffhugh if johnson fails to deliver brexit for his russian oligarchs on 31 10 he been told he will be found dead in ditch  : ['negative']\n",
            " mpiainds work is the best route out of poverty so why despite nursing shortage worsening with brexit pressur https co mn0rn2g0kw : ['positive']\n",
            "i have picked up over 600 followers in the last week if have not followed you back unless you are pro brexit https co tjhngbd6rc : ['negative']\n",
            " bbcnickrobinson national unity absolutely no chance vote brexitparty_uk brexit eu uk https co xhk05ubzse : ['neutral']\n",
            "just been watching lord of the rings and realised how much of this false sentiment about middle earth has affected https co lacpisox1x : ['negative']\n",
            " davidlammy it won work for me ve already left the labour fold because of your equivocation over brexit oh https co a2f65zwjvs : ['neutral']\n",
            " beaumontdmd it just like the abba song the women take it all  : ['negative']\n",
            " stephentall robblackie stop the mess stop brexit end the mess stop brexit you can stop the mess by stopping brexit : ['negative']\n",
            "british chocolate exports doubled from 361 8m in 2008 to 723 8m in 2018 making chocolate uk 2nd largest amp https co kjgugjr3ti : ['neutral']\n",
            " have to go back to africa to see what stable govt looks like dalisochaponda take on brexit best laugh https co wp7ofs7dcp : ['positive']\n",
            " nchamp62 well then stop trying to brainwash the kids get over your hatred of brexit and brexiters and those https co erik2xcv4z : ['neutral']\n",
            " borisjohnson big boy brexit boris : ['negative']\n",
            " independent if brexit takes place amp perhaps few more will move to scotland republic of scotland within the https co dcwzkjj9lk : ['negative']\n",
            " magashaman trumpmaga_50 usacy1 calineedshelp dyro874 michaeldadiego mcukes alexand34723258 wigone1 https co d5wyb5r1kj : ['neutral']\n",
            " uk calls for inquiry into claims johnson backers benefit from no deal brexit https co ojailabpfy : ['neutral']\n",
            " mpiainds we just want brexit done iain m looking forward to the news being about something other than brexit https co mlzefkqvj7 : ['neutral']\n",
            "remainer mp you know who you are while understand it upsetting to receive threats of any sort you have https co kfopqrgv4g : ['neutral']\n",
            " borisjohnson catherineseye the people voted for brexit boris your job is to deliver  : ['negative']\n",
            "petition release all no deal brexit planning documents to parliament and the people https co kkdpvccsto : ['neutral']\n",
            " tfoale amused that he clearly is able to differentiate between england and the other nations of the uk even wi https co ukozeiopfd : ['negative']\n",
            "brexit boris johnson government could face no confidence vote in coming days snp warn the independent https co gcimztsbht : ['negative']\n",
            " faisalislam brexit_sham phill https co nnpvwho9vp : ['neutral']\n",
            " brunoam05317727 brexit plus conservatives equals win win win for brexit come on get together you know it makes sense  : ['negative']\n",
            " frances_coppola davidheniguk johnson own sister reported it odey has been filmed setting out his role it pu https co denbip2l9v : ['neutral']\n",
            " stevebray manchester london conservativepartyconference brexit bray up to his old tricks again seen on route https co lmomd6paxr : ['neutral']\n",
            " meadowuk they don get their payoff unless they stop brexit that simple  : ['negative']\n",
            " ciabaudo bit worrying that johnson has been using kids https co kbtbb4fnwc : ['neutral']\n",
            "anyone else confused that the brexit party is front organisation for the argentinians  : ['negative']\n",
            " t0mb16 the side of the bus sign writes itself this time brexit tearing us apart let forget it amp move on  : ['negative']\n",
            "brexit means fucking this country up so it takes decades to recover in order that boris rich friends become even https co clar5nlwbm : ['negative']\n",
            " gordonfthomas there one other option he brings back the wa maybe tweaked maybe not and says if you want https co vqgvb1bsde : ['negative']\n",
            " blaiklockbp yes bring on brexit and we can make britain white again _  : ['neutral']\n",
            " borisjohnson how much do you get paid for this are the russian behind it what you doing after brexit what yo https co jilkrwpvfl : ['negative']\n",
            "a zombie government and zombie opposition both probably financed in different ways by habitual criminal putin https co knjm82kpdq : ['neutral']\n",
            "cabinet secretary urged to look into conflict of interest fears raised by philip hammond and rachel johnson https co vrx24yh2ik : ['neutral']\n",
            " borisjohnson is that jennifer arcuri on your arm and if not how much of the taxpayer money is being funnelled https co uoaqhxril6 : ['neutral']\n",
            " jagrant arusbridger jan2016 was before voters were encouraged to engage with th ref on th express promise that th https co rcpjkwzgk1 : ['neutral']\n",
            " hawk_moon269 ponyaccess evangel17614948 seamusfaealba mear_an nicolasturgeon bernardineevari you really need https co ej3m4evrgp : ['neutral']\n",
            " joswinson emilythornberry please please please support jeremy to sort this brexit crap out : ['negative']\n",
            " joebiden if you are able to sort brexit joe even d try to find way to vote for you  : ['negative']\n",
            " jetfury brexit albion : ['negative']\n",
            " clivewismayer end uncertainty stop brexit  : ['negative']\n",
            "dumb gammon boomers m sorry don have that self control it would 50 50 bite lip put him in hospital throw https co yfnodvq9uz : ['negative']\n",
            " sedgewickdavid emilyhewertson go on then which labour policies do you disagree with and what do you hope to gain from brexit  : ['negative']\n",
            " davidlinden channel4news stvnews itvnews thesnp borisjohnson think it time that the snp realised that they don rule over the uk : ['negative']\n",
            "the eu is voluntary to join but there is no way can leave on your own terms the governments that have given https co 6njamfhzyn : ['neutral']\n",
            " conservatives the poundshop brexit party  : ['negative']\n",
            "please report this brexit company racist and get her deplatformed hello twittersafety https co cyqaccy9y2 : ['neutral']\n",
            " no1gillygolfer flagblyth cbh57 smartysue rosinapaintolin carolc35237810 approximately 6 000 7000 women will https co vx56cx0ued : ['neutral']\n",
            " somecake1 chetkayable iedsx borisjohnson haha says someone calling for britain democracy to be crushed in or https co 3l5eulfjgy : ['neutral']\n",
            " brexit questions https co zfc5ychkcz : ['neutral']\n",
            "brexit party tour feisty ann widdecombe attacks enemy territory lon https co tb6ylpcfsh via youtube : ['neutral']\n",
            "tells me all need to know about the brexit party https co ugy4vsybkl : ['neutral']\n",
            " apacreach_james rebecca63564223 jacks1cj1968 zombie_nun wrong his answer to the question was humbug he then https co kjws4wbqwg : ['neutral']\n",
            " currently 8 274 350 000 8 3 billion of aggregate short positions has been taken out by hedge funds connected https co euhnwqdall : ['negative']\n",
            "wild important thread up amp down javanka in italy barr in brussels brexit tampering then italy pompeo also https co w5wcu6begu : ['neutral']\n",
            "slowly detoxing from brexit its taken over my life far too much arrived in bayonne en route to sjpdp love https co nfwn6jz4of : ['positive']\n",
            "hope labour followers will join this campaign we urgently need to prevent labour sliding into corbynite civil https co dfgttag6h5 : ['neutral']\n",
            " wcullmac russophile cummings is trying to please the boss man of where he spent years russia putin is just lov https co 7pn9dcr8ih : ['neutral']\n",
            " picturedimage brexit means britain gets raped by the us : ['negative']\n",
            " sarahj_says tbh think lot of people simply aren interested they think brexit will happen and that it v https co 226odzdiwm : ['negative']\n",
            "hope so but chances of corbynite leader are slim in my view especially as when push comes to shove the left kee https co jllpfglhgx : ['negative']\n",
            " brexit_politics and did the eu prevent uk from exporting 345 1bn to non eu did they limit it no but apparen https co 1hm0vkopz5 : ['neutral']\n",
            " borisjohnson nadhimzahawi what will you tell the people if we have no deal brexit when they realize it the st https co aesb1nhogw : ['negative']\n",
            " justin_ryland amusingname0 sajidjavid ruthdavidsonmsp afneil laura has repeated government opinion as fact https co 4qrevviy2y : ['neutral']\n",
            "sprung gove claims about ready for brexit were fictitious amp exposed as such in govt documents https co zygmnffzuu : ['neutral']\n",
            " jazzaoxon iancoll94354676 ever notice there seems to be more brexit backing mps than necks bridgen and francois share one between them  : ['negative']\n",
            " action4life_ piers_corbyn come on we all know if you want to know about it ask the expert greta thunberg or her https co 1aptcrezy1 : ['neutral']\n",
            "surely this is common knowledge the whole purpose of brexit is for the very rich to cash in on the destruction https co vx2nz6ts2l : ['neutral']\n",
            " lukkylemec m sorry but for me life is not bigger than brexit likely won be around in 20 years time but my https co gm04ac7nwa : ['negative']\n",
            "we must leave the eu on 31st october if we don the consequences may be terrible https co b7invutry5 : ['neutral']\n"
          ],
          "name": "stdout"
        }
      ]
    }
  ]
}